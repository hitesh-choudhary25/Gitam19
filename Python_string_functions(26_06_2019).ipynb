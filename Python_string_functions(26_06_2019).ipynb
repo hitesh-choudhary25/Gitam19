{
  "nbformat": 4,
  "nbformat_minor": 0,
  "metadata": {
    "colab": {
      "name": "Python string functions(26-06-2019).ipynb",
      "version": "0.3.2",
      "provenance": [],
      "collapsed_sections": [],
      "include_colab_link": true
    },
    "kernelspec": {
      "name": "python3",
      "display_name": "Python 3"
    }
  },
  "cells": [
    {
      "cell_type": "markdown",
      "metadata": {
        "id": "view-in-github",
        "colab_type": "text"
      },
      "source": [
        "<a href=\"https://colab.research.google.com/github/hitesh-choudhary25/Gitam19/blob/master/Python_string_functions(26_06_2019).ipynb\" target=\"_parent\"><img src=\"https://colab.research.google.com/assets/colab-badge.svg\" alt=\"Open In Colab\"/></a>"
      ]
    },
    {
      "cell_type": "markdown",
      "metadata": {
        "id": "re8KcNhl5MOG",
        "colab_type": "text"
      },
      "source": [
        "**String function - in built functions**\n",
        "\n",
        "Upper()---return string which all the characters in upper case\n",
        "\n",
        "lower()---returns string which all the  characters in lower case "
      ]
    },
    {
      "cell_type": "code",
      "metadata": {
        "id": "x2j5iUTD5Fcb",
        "colab_type": "code",
        "colab": {}
      },
      "source": [
        "str=\"Anil\"\n"
      ],
      "execution_count": 0,
      "outputs": []
    },
    {
      "cell_type": "markdown",
      "metadata": {
        "id": "d26QoR4N5tLm",
        "colab_type": "text"
      },
      "source": [
        "**Boolean functions**\n",
        "\n",
        "islower()---Method returns the output either true or false, if it is true the given character in lower case and if not it returns false\n",
        "\n",
        "isupper()---True and False\n",
        "\n",
        "isnumeric()-- True and False\n",
        "\n",
        "isalpha()--- True and False(given string need to have only alphabetic character)\n",
        "\n",
        "istitle()---True and False(given string is in title case )\n",
        "\n",
        "isspace()---True and False"
      ]
    },
    {
      "cell_type": "code",
      "metadata": {
        "id": "omMmmApf6G6v",
        "colab_type": "code",
        "outputId": "bfa67d7b-ddda-4bcd-f688-c3cf633d84cd",
        "colab": {
          "base_uri": "https://localhost:8080/",
          "height": 51
        }
      },
      "source": [
        "s = 'Python is a Easy Programming to learn and interesting'\n",
        "s1 = \"python\"\n",
        "print(s.islower())\n",
        "print(s1.islower())"
      ],
      "execution_count": 0,
      "outputs": [
        {
          "output_type": "stream",
          "text": [
            "False\n",
            "True\n"
          ],
          "name": "stdout"
        }
      ]
    },
    {
      "cell_type": "code",
      "metadata": {
        "id": "iddxBBbH7Dfm",
        "colab_type": "code",
        "outputId": "1557e92c-06ea-467f-ebb8-06ee2eb4356a",
        "colab": {
          "base_uri": "https://localhost:8080/",
          "height": 68
        }
      },
      "source": [
        "s = \"Application\"\n",
        "s1 = 'Anil'\n",
        "s2 = 'ANIL'\n",
        "print(s.isupper())\n",
        "print(s1.isupper())\n",
        "print(s2.isupper())"
      ],
      "execution_count": 0,
      "outputs": [
        {
          "output_type": "stream",
          "text": [
            "False\n",
            "False\n",
            "True\n"
          ],
          "name": "stdout"
        }
      ]
    },
    {
      "cell_type": "code",
      "metadata": {
        "id": "eXNe6LoS762f",
        "colab_type": "code",
        "outputId": "e842d7d8-04c4-4dcc-e413-c6aafca5da0b",
        "colab": {
          "base_uri": "https://localhost:8080/",
          "height": 51
        }
      },
      "source": [
        "s = \"5678\"\n",
        "s1 = \"App5678\"\n",
        "print(s.isnumeric())\n",
        "print(s1.isnumeric())"
      ],
      "execution_count": 0,
      "outputs": [
        {
          "output_type": "stream",
          "text": [
            "True\n",
            "False\n"
          ],
          "name": "stdout"
        }
      ]
    },
    {
      "cell_type": "code",
      "metadata": {
        "id": "PpLVKl3h8S0v",
        "colab_type": "code",
        "outputId": "51260162-839c-44d7-87da-e1f0c8a3b1fc",
        "colab": {
          "base_uri": "https://localhost:8080/",
          "height": 51
        }
      },
      "source": [
        "s = \"Application\"\n",
        "s1 = \"App5678\"\n",
        "print(s.isalpha())\n",
        "print(s1.isalpha())"
      ],
      "execution_count": 0,
      "outputs": [
        {
          "output_type": "stream",
          "text": [
            "True\n",
            "False\n"
          ],
          "name": "stdout"
        }
      ]
    },
    {
      "cell_type": "code",
      "metadata": {
        "id": "RFH1adli9Wr3",
        "colab_type": "code",
        "outputId": "b3047741-33fc-4f37-bcad-66031358ef04",
        "colab": {
          "base_uri": "https://localhost:8080/",
          "height": 51
        }
      },
      "source": [
        "s = \"Python programming\"\n",
        "s1 = \"Python Programming\"\n",
        "print(s.istitle())\n",
        "print(s1.istitle())"
      ],
      "execution_count": 0,
      "outputs": [
        {
          "output_type": "stream",
          "text": [
            "False\n",
            "True\n"
          ],
          "name": "stdout"
        }
      ]
    },
    {
      "cell_type": "code",
      "metadata": {
        "id": "Fs7kJP2Y-YBv",
        "colab_type": "code",
        "outputId": "457c853b-2d05-43ad-c547-e11aa98c6a85",
        "colab": {
          "base_uri": "https://localhost:8080/",
          "height": 51
        }
      },
      "source": [
        "s = \"Python\"\n",
        "s1 = \" \"\n",
        "print(s.isspace())\n",
        "print(s1.isspace())"
      ],
      "execution_count": 0,
      "outputs": [
        {
          "output_type": "stream",
          "text": [
            "False\n",
            "True\n"
          ],
          "name": "stdout"
        }
      ]
    },
    {
      "cell_type": "markdown",
      "metadata": {
        "id": "h3v2_2aJ_f7m",
        "colab_type": "text"
      },
      "source": [
        "**String function**\n",
        "\n",
        "1.Join() : this method will  concatinate two string.\n",
        "\n",
        "2.split(): this method return the list of strings that are separated by whitespace.\n",
        "\n",
        "\n",
        "3.replace()-- this method returns original string with new string."
      ]
    },
    {
      "cell_type": "code",
      "metadata": {
        "id": "7v3ib9am_0-v",
        "colab_type": "code",
        "outputId": "0e931d18-0ca5-4d1e-bee2-aa8875572f30",
        "colab": {
          "base_uri": "https://localhost:8080/",
          "height": 34
        }
      },
      "source": [
        "str = \"Python\"\n",
        "print(\" \".join(str))"
      ],
      "execution_count": 0,
      "outputs": [
        {
          "output_type": "stream",
          "text": [
            "P y t h o n\n"
          ],
          "name": "stdout"
        }
      ]
    },
    {
      "cell_type": "code",
      "metadata": {
        "id": "8SmD15X1Ab-H",
        "colab_type": "code",
        "outputId": "b5a112df-c054-417f-f68d-37251134532d",
        "colab": {
          "base_uri": "https://localhost:8080/",
          "height": 34
        }
      },
      "source": [
        "print(\",\".join([\"Python\",\"Programming\",\"Easy\"]))"
      ],
      "execution_count": 0,
      "outputs": [
        {
          "output_type": "stream",
          "text": [
            "Python,Programming,Easy\n"
          ],
          "name": "stdout"
        }
      ]
    },
    {
      "cell_type": "code",
      "metadata": {
        "id": "USCvGcReBM6m",
        "colab_type": "code",
        "outputId": "1f6a84b3-d553-43f0-ff3f-681eaad348c7",
        "colab": {
          "base_uri": "https://localhost:8080/",
          "height": 34
        }
      },
      "source": [
        "lst = [\"\",\"\"]\n",
        "print(\",\".join(lst))"
      ],
      "execution_count": 0,
      "outputs": [
        {
          "output_type": "stream",
          "text": [
            ",\n"
          ],
          "name": "stdout"
        }
      ]
    },
    {
      "cell_type": "code",
      "metadata": {
        "id": "kS-vzxOQBrJH",
        "colab_type": "code",
        "outputId": "79df9b55-ab4d-48cc-a2ba-260930358a37",
        "colab": {
          "base_uri": "https://localhost:8080/",
          "height": 68
        }
      },
      "source": [
        "s = \"Python Programming is easy to learn\"\n",
        "s1 = \"Python,Programming,is,easy,to,learn\"\n",
        "print(s.split())\n",
        "print(s.split(\"a\"))\n",
        "print(s1.split(\",\"))"
      ],
      "execution_count": 0,
      "outputs": [
        {
          "output_type": "stream",
          "text": [
            "['Python', 'Programming', 'is', 'easy', 'to', 'learn']\n",
            "['Python Progr', 'mming is e', 'sy to le', 'rn']\n",
            "['Python', 'Programming', 'is', 'easy', 'to', 'learn']\n"
          ],
          "name": "stdout"
        }
      ]
    },
    {
      "cell_type": "code",
      "metadata": {
        "id": "jt_95PiVDvQe",
        "colab_type": "code",
        "outputId": "6148d696-cfd3-48c2-9600-1ebbd14f68ec",
        "colab": {
          "base_uri": "https://localhost:8080/",
          "height": 51
        }
      },
      "source": [
        "s = \"Python is easy to learn\"\n",
        "lst = s.split()\n",
        "print(lst)\n",
        "print(lst.index(\"is\"))"
      ],
      "execution_count": 0,
      "outputs": [
        {
          "output_type": "stream",
          "text": [
            "['Python', 'is', 'easy', 'to', 'learn']\n",
            "1\n"
          ],
          "name": "stdout"
        }
      ]
    },
    {
      "cell_type": "code",
      "metadata": {
        "id": "mHonlnpXE0Jv",
        "colab_type": "code",
        "outputId": "6198563f-1dcd-48c2-e172-2a1aa560c6a0",
        "colab": {
          "base_uri": "https://localhost:8080/",
          "height": 34
        }
      },
      "source": [
        "s = \"Python program is easy to learn\"\n",
        "lst = list(s)\n",
        "print(lst)"
      ],
      "execution_count": 0,
      "outputs": [
        {
          "output_type": "stream",
          "text": [
            "['P', 'y', 't', 'h', 'o', 'n', ' ', 'p', 'r', 'o', 'g', 'r', 'a', 'm', ' ', 'i', 's', ' ', 'e', 'a', 's', 'y', ' ', 't', 'o', ' ', 'l', 'e', 'a', 'r', 'n']\n"
          ],
          "name": "stdout"
        }
      ]
    },
    {
      "cell_type": "code",
      "metadata": {
        "id": "SGZfi79mFUZq",
        "colab_type": "code",
        "outputId": "480eeb68-cd3e-42d1-bc95-9b6cb416a206",
        "colab": {
          "base_uri": "https://localhost:8080/",
          "height": 34
        }
      },
      "source": [
        "s = \"Python Programming\";\n",
        "print(s.replace(\"gra\",\"application\"))"
      ],
      "execution_count": 0,
      "outputs": [
        {
          "output_type": "stream",
          "text": [
            "Python Proapplicationmming\n"
          ],
          "name": "stdout"
        }
      ]
    },
    {
      "cell_type": "markdown",
      "metadata": {
        "id": "Sg3-9vreKvcz",
        "colab_type": "text"
      },
      "source": [
        "**Tuples in Python**\n",
        "\n",
        "=>A tuples is sequence of set of objects like list only.\n",
        "\n",
        "=>The differences of list and tuples are,the tuples cannot be changed unlike list.\n",
        "\n",
        "=>List will use square brackets hold objects().\n",
        "\n",
        "=>Tuples uses parenthless to hold objects.\n",
        "\n",
        "=>Tuples are useful when the given input is only for read purpose"
      ]
    },
    {
      "cell_type": "code",
      "metadata": {
        "id": "Ug85gzTML0oZ",
        "colab_type": "code",
        "outputId": "26c1a368-102d-4ad8-a6f5-bf2ba5dbd60c",
        "colab": {
          "base_uri": "https://localhost:8080/",
          "height": 136
        }
      },
      "source": [
        "t = (\"python\",\"Programming\",1989,2019,\"Machine learning\",\"AI\")\n",
        "t2 = (1,2,3,4,5)\n",
        "print(t)\n",
        "print(t2)\n",
        "print(\"t[0] = \",t[0])\n",
        "print(\"t[2] = \",t[2])\n",
        "print(\"t[-1] = \",t[-1])\n",
        "print(\"t[2:-2] = \",t[2:-2])\n",
        "print(\"t[1:4] = \",t[1:4])"
      ],
      "execution_count": 0,
      "outputs": [
        {
          "output_type": "stream",
          "text": [
            "('python', 'Programming', 1989, 2019, 'Machine learning', 'AI')\n",
            "(1, 2, 3, 4, 5)\n",
            "t[0] =  python\n",
            "t[2] =  1989\n",
            "t[-1] =  AI\n",
            "t[2:-2] =  (1989, 2019)\n",
            "t[1:4] =  ('Programming', 1989, 2019)\n"
          ],
          "name": "stdout"
        }
      ]
    },
    {
      "cell_type": "code",
      "metadata": {
        "id": "ftq_iApPP-7j",
        "colab_type": "code",
        "outputId": "7228a92b-469b-4747-9990-7fa5cd368fbb",
        "colab": {
          "base_uri": "https://localhost:8080/",
          "height": 214
        }
      },
      "source": [
        "t1 = (\"python\",\"Programming\",1989,2019,\"Machine learning\",\"AI\")\n",
        "print(t1)\n",
        "#t1[2] = 2018\n",
        "del t1[2]"
      ],
      "execution_count": 0,
      "outputs": [
        {
          "output_type": "stream",
          "text": [
            "('python', 'Programming', 1989, 2019, 'Machine learning', 'AI')\n"
          ],
          "name": "stdout"
        },
        {
          "output_type": "error",
          "ename": "TypeError",
          "evalue": "ignored",
          "traceback": [
            "\u001b[0;31m---------------------------------------------------------------------------\u001b[0m",
            "\u001b[0;31mTypeError\u001b[0m                                 Traceback (most recent call last)",
            "\u001b[0;32m<ipython-input-53-c8cf6f4660ed>\u001b[0m in \u001b[0;36m<module>\u001b[0;34m()\u001b[0m\n\u001b[1;32m      2\u001b[0m \u001b[0mprint\u001b[0m\u001b[0;34m(\u001b[0m\u001b[0mt1\u001b[0m\u001b[0;34m)\u001b[0m\u001b[0;34m\u001b[0m\u001b[0;34m\u001b[0m\u001b[0m\n\u001b[1;32m      3\u001b[0m \u001b[0;31m#t1[2] = 2018\u001b[0m\u001b[0;34m\u001b[0m\u001b[0;34m\u001b[0m\u001b[0;34m\u001b[0m\u001b[0m\n\u001b[0;32m----> 4\u001b[0;31m \u001b[0;32mdel\u001b[0m \u001b[0mt1\u001b[0m\u001b[0;34m[\u001b[0m\u001b[0;36m2\u001b[0m\u001b[0;34m]\u001b[0m\u001b[0;34m\u001b[0m\u001b[0;34m\u001b[0m\u001b[0m\n\u001b[0m",
            "\u001b[0;31mTypeError\u001b[0m: 'tuple' object doesn't support item deletion"
          ]
        }
      ]
    },
    {
      "cell_type": "code",
      "metadata": {
        "id": "rnZ7zAp_Mk-R",
        "colab_type": "code",
        "outputId": "365a721d-fc8f-4a66-8410-15a96f267bcd",
        "colab": {
          "base_uri": "https://localhost:8080/",
          "height": 214
        }
      },
      "source": [
        "t1 = (\"python\",\"Programming\",1989,2019,\"Machine learning\",\"AI\")\n",
        "print(t1)\n",
        "del t1\n",
        "print(t1)"
      ],
      "execution_count": 0,
      "outputs": [
        {
          "output_type": "stream",
          "text": [
            "('python', 'Programming', 1989, 2019, 'Machine learning', 'AI')\n"
          ],
          "name": "stdout"
        },
        {
          "output_type": "error",
          "ename": "NameError",
          "evalue": "ignored",
          "traceback": [
            "\u001b[0;31m---------------------------------------------------------------------------\u001b[0m",
            "\u001b[0;31mNameError\u001b[0m                                 Traceback (most recent call last)",
            "\u001b[0;32m<ipython-input-50-69e96cf11070>\u001b[0m in \u001b[0;36m<module>\u001b[0;34m()\u001b[0m\n\u001b[1;32m      2\u001b[0m \u001b[0mprint\u001b[0m\u001b[0;34m(\u001b[0m\u001b[0mt1\u001b[0m\u001b[0;34m)\u001b[0m\u001b[0;34m\u001b[0m\u001b[0;34m\u001b[0m\u001b[0m\n\u001b[1;32m      3\u001b[0m \u001b[0;32mdel\u001b[0m \u001b[0mt1\u001b[0m\u001b[0;34m\u001b[0m\u001b[0;34m\u001b[0m\u001b[0m\n\u001b[0;32m----> 4\u001b[0;31m \u001b[0mprint\u001b[0m\u001b[0;34m(\u001b[0m\u001b[0mt1\u001b[0m\u001b[0;34m)\u001b[0m\u001b[0;34m\u001b[0m\u001b[0;34m\u001b[0m\u001b[0m\n\u001b[0m",
            "\u001b[0;31mNameError\u001b[0m: name 't1' is not defined"
          ]
        }
      ]
    },
    {
      "cell_type": "code",
      "metadata": {
        "id": "oC2DAqMAPSeW",
        "colab_type": "code",
        "outputId": "5096c71b-649c-4d04-871f-550f80024b75",
        "colab": {
          "base_uri": "https://localhost:8080/",
          "height": 34
        }
      },
      "source": [
        "t1 = (\"Python\",\"Programming\")\n",
        "t2 = (1989,2019,\"ML\",\"AI\")\n",
        "t3 = t1+t2\n",
        "print(t3)"
      ],
      "execution_count": 0,
      "outputs": [
        {
          "output_type": "stream",
          "text": [
            "('Python', 'Programming', 1989, 2019, 'ML', 'AI')\n"
          ],
          "name": "stdout"
        }
      ]
    },
    {
      "cell_type": "markdown",
      "metadata": {
        "id": "kMBuafNeRMVP",
        "colab_type": "text"
      },
      "source": [
        "**Tuple method**\n",
        "\n",
        "**1.len(tuple)**:- len of the tuple\n",
        "\n",
        "**2.max(tuple)**:- returns the max value from  tuple\n",
        "\n",
        "**3.Min(tuple)**:- It returns min value from tuple\n",
        "\n",
        "**4.cmp(tuple1,tuple2)**:-returns value as 1 0r -1"
      ]
    },
    {
      "cell_type": "code",
      "metadata": {
        "id": "ZtOf_TKjRK8p",
        "colab_type": "code",
        "outputId": "83c9ae65-46e0-482e-cc71-0ef7db552f34",
        "colab": {
          "base_uri": "https://localhost:8080/",
          "height": 34
        }
      },
      "source": [
        "t1 = (\"python\",\"Programming\",1989,2019,\"Machine learning\",\"AI\")\n",
        "print(len(t1))"
      ],
      "execution_count": 0,
      "outputs": [
        {
          "output_type": "stream",
          "text": [
            "6\n"
          ],
          "name": "stdout"
        }
      ]
    },
    {
      "cell_type": "code",
      "metadata": {
        "id": "7YKwGlBYRxk4",
        "colab_type": "code",
        "outputId": "3166810c-f669-40a1-bcdd-e86852464a8f",
        "colab": {
          "base_uri": "https://localhost:8080/",
          "height": 214
        }
      },
      "source": [
        "t1 = (19,2,1,3,2,4,5)\n",
        "t2 = (\"Python\",\"Programming\",214,221,\"ML\")\n",
        "print(max(t1))\n",
        "print(max(t2))"
      ],
      "execution_count": 0,
      "outputs": [
        {
          "output_type": "stream",
          "text": [
            "19\n"
          ],
          "name": "stdout"
        },
        {
          "output_type": "error",
          "ename": "TypeError",
          "evalue": "ignored",
          "traceback": [
            "\u001b[0;31m---------------------------------------------------------------------------\u001b[0m",
            "\u001b[0;31mTypeError\u001b[0m                                 Traceback (most recent call last)",
            "\u001b[0;32m<ipython-input-57-ecdaae7d59d4>\u001b[0m in \u001b[0;36m<module>\u001b[0;34m()\u001b[0m\n\u001b[1;32m      2\u001b[0m \u001b[0mt2\u001b[0m \u001b[0;34m=\u001b[0m \u001b[0;34m(\u001b[0m\u001b[0;34m\"Python\"\u001b[0m\u001b[0;34m,\u001b[0m\u001b[0;34m\"Programming\"\u001b[0m\u001b[0;34m,\u001b[0m\u001b[0;36m214\u001b[0m\u001b[0;34m,\u001b[0m\u001b[0;36m221\u001b[0m\u001b[0;34m,\u001b[0m\u001b[0;34m\"ML\"\u001b[0m\u001b[0;34m)\u001b[0m\u001b[0;34m\u001b[0m\u001b[0;34m\u001b[0m\u001b[0m\n\u001b[1;32m      3\u001b[0m \u001b[0mprint\u001b[0m\u001b[0;34m(\u001b[0m\u001b[0mmax\u001b[0m\u001b[0;34m(\u001b[0m\u001b[0mt1\u001b[0m\u001b[0;34m)\u001b[0m\u001b[0;34m)\u001b[0m\u001b[0;34m\u001b[0m\u001b[0;34m\u001b[0m\u001b[0m\n\u001b[0;32m----> 4\u001b[0;31m \u001b[0mprint\u001b[0m\u001b[0;34m(\u001b[0m\u001b[0mmax\u001b[0m\u001b[0;34m(\u001b[0m\u001b[0mt2\u001b[0m\u001b[0;34m)\u001b[0m\u001b[0;34m)\u001b[0m\u001b[0;34m\u001b[0m\u001b[0;34m\u001b[0m\u001b[0m\n\u001b[0m",
            "\u001b[0;31mTypeError\u001b[0m: '>' not supported between instances of 'int' and 'str'"
          ]
        }
      ]
    },
    {
      "cell_type": "code",
      "metadata": {
        "id": "Ji2Mm-F1TMAI",
        "colab_type": "code",
        "outputId": "d840e409-0957-450b-f047-b13b1b5ecb12",
        "colab": {
          "base_uri": "https://localhost:8080/",
          "height": 51
        }
      },
      "source": [
        "t1 = (\"python\",\"Programming\",1989,2019,\"Machine learning\",\"AI\")\n",
        "print(t1)\n",
        "tuple1=tuple(t1)\n",
        "print(tuple1)"
      ],
      "execution_count": 0,
      "outputs": [
        {
          "output_type": "stream",
          "text": [
            "('python', 'Programming', 1989, 2019, 'Machine learning', 'AI')\n",
            "('python', 'Programming', 1989, 2019, 'Machine learning', 'AI')\n"
          ],
          "name": "stdout"
        }
      ]
    },
    {
      "cell_type": "markdown",
      "metadata": {
        "id": "_U565ER2UuXA",
        "colab_type": "text"
      },
      "source": [
        "**Python dictionary**\n",
        "\n",
        "-----------------------------\n",
        "\n",
        "Dictionary each key is separated with values by colon(:)\n",
        "\n",
        "User data can be separated from comma operator \n",
        "\n",
        "Examples:-"
      ]
    },
    {
      "cell_type": "code",
      "metadata": {
        "id": "zyjF-AYNa-Af",
        "colab_type": "code",
        "outputId": "6cf33ef5-8cd1-42fa-e3c4-3c92c82340ad",
        "colab": {
          "base_uri": "https://localhost:8080/",
          "height": 85
        }
      },
      "source": [
        "user1 = {'Name':'Hitesh','Age':'19','EmailID':'hitesh25choudhary@gmail.com','MobileNumber':'9722458266'}\n",
        "print(\"user1[Name] = \",user1['Name'])\n",
        "print(\"user1[EmailID] = \",user1['EmailID'])\n",
        "print(\"user1[Age] = \",user1['Age'])\n",
        "print(\"user1[MobileNumber] = \",user1['MobileNumber'])"
      ],
      "execution_count": 0,
      "outputs": [
        {
          "output_type": "stream",
          "text": [
            "user1[Name] =  Hitesh\n",
            "user1[EmailID] =  hitesh25choudhary@gmail.com\n",
            "user1[Age] =  19\n",
            "user1[MobileNumber] =  9722458266\n"
          ],
          "name": "stdout"
        }
      ]
    },
    {
      "cell_type": "code",
      "metadata": {
        "id": "ldlU5_9mfBSH",
        "colab_type": "code",
        "outputId": "a9e78433-fc2a-4653-e5cf-1ee54e27376d",
        "colab": {
          "base_uri": "https://localhost:8080/",
          "height": 68
        }
      },
      "source": [
        "user1 = {'Name':'Hitesh','Age':'19','EmailID':'hitesh25choudhary@gmail.com','MobileNumber':'9722458266'}\n",
        "print(user1['EmailID'])\n",
        "#update the dict object data\n",
        "user1['EmailID'] = 'Hitesh1@gmail.com'\n",
        "print(user1['EmailID'])\n",
        "user1['Address'] = 'Hyderabad' #New entry for an item in dict object\n",
        "print(user1['Address'])"
      ],
      "execution_count": 0,
      "outputs": [
        {
          "output_type": "stream",
          "text": [
            "hitesh25choudhary@gmail.com\n",
            "Hitesh1@gmail.com\n",
            "Hyderabad\n"
          ],
          "name": "stdout"
        }
      ]
    },
    {
      "cell_type": "code",
      "metadata": {
        "id": "GgWwpRTHgyFg",
        "colab_type": "code",
        "outputId": "329019b0-3ebf-4b40-a742-f1792b27da49",
        "colab": {
          "base_uri": "https://localhost:8080/",
          "height": 214
        }
      },
      "source": [
        "user1 = {'Name':'Hitesh','Age':'19','EmailID':'hitesh25choudhary@gmail.com','MobileNumber':'9722458266'}\n",
        "print(user1['EmailID'])\n",
        "del user1['EmailID']\n",
        "print(user1['EmailID'])"
      ],
      "execution_count": 0,
      "outputs": [
        {
          "output_type": "stream",
          "text": [
            "hitesh25choudhary@gmail.com\n"
          ],
          "name": "stdout"
        },
        {
          "output_type": "error",
          "ename": "KeyError",
          "evalue": "ignored",
          "traceback": [
            "\u001b[0;31m---------------------------------------------------------------------------\u001b[0m",
            "\u001b[0;31mKeyError\u001b[0m                                  Traceback (most recent call last)",
            "\u001b[0;32m<ipython-input-63-b71f9dc00ad5>\u001b[0m in \u001b[0;36m<module>\u001b[0;34m()\u001b[0m\n\u001b[1;32m      2\u001b[0m \u001b[0mprint\u001b[0m\u001b[0;34m(\u001b[0m\u001b[0muser1\u001b[0m\u001b[0;34m[\u001b[0m\u001b[0;34m'EmailID'\u001b[0m\u001b[0;34m]\u001b[0m\u001b[0;34m)\u001b[0m\u001b[0;34m\u001b[0m\u001b[0;34m\u001b[0m\u001b[0m\n\u001b[1;32m      3\u001b[0m \u001b[0;32mdel\u001b[0m \u001b[0muser1\u001b[0m\u001b[0;34m[\u001b[0m\u001b[0;34m'EmailID'\u001b[0m\u001b[0;34m]\u001b[0m\u001b[0;34m\u001b[0m\u001b[0;34m\u001b[0m\u001b[0m\n\u001b[0;32m----> 4\u001b[0;31m \u001b[0mprint\u001b[0m\u001b[0;34m(\u001b[0m\u001b[0muser1\u001b[0m\u001b[0;34m[\u001b[0m\u001b[0;34m'EmailID'\u001b[0m\u001b[0;34m]\u001b[0m\u001b[0;34m)\u001b[0m\u001b[0;34m\u001b[0m\u001b[0;34m\u001b[0m\u001b[0m\n\u001b[0m",
            "\u001b[0;31mKeyError\u001b[0m: 'EmailID'"
          ]
        }
      ]
    },
    {
      "cell_type": "code",
      "metadata": {
        "id": "Vvgm-JhIheTo",
        "colab_type": "code",
        "colab": {}
      },
      "source": [
        "user1 = {'Name':'Hitesh','Age':'19','EmailID':'hitesh25choudhary@gmail.com','MobileNumber':'9722458266'}\n",
        "del user1['EmailID']\n",
        "user1.clear()\n",
        "del user1"
      ],
      "execution_count": 0,
      "outputs": []
    },
    {
      "cell_type": "markdown",
      "metadata": {
        "id": "EyaWBJIcijJx",
        "colab_type": "text"
      },
      "source": [
        "**Methods of dictionary objects**\n",
        "\n",
        "**1.len(dictobj)**:-returns number having length\n",
        "\n",
        "**2.str(dicObj)**:-returns the equalent string to dict object\n",
        "\n",
        "**3.copy()**:-It copies one dictionary to another dictionary data\n",
        "\n",
        "**4.items()**:-returns a list\n"
      ]
    },
    {
      "cell_type": "code",
      "metadata": {
        "id": "H-wauSMYi00A",
        "colab_type": "code",
        "outputId": "ac489f0e-913b-4abb-dfb6-0585d645eca6",
        "colab": {
          "base_uri": "https://localhost:8080/",
          "height": 51
        }
      },
      "source": [
        "user1 = {'Name':'Hitesh','Age':'19','EmailID':'hitesh25choudhary@gmail.com','MobileNumber':'9722458266'}\n",
        "print(len(user1))\n",
        "user1['Address'] = 'Hyderabad'\n",
        "print(len(user1))"
      ],
      "execution_count": 0,
      "outputs": [
        {
          "output_type": "stream",
          "text": [
            "4\n",
            "5\n"
          ],
          "name": "stdout"
        }
      ]
    },
    {
      "cell_type": "code",
      "metadata": {
        "id": "DOiJ5oVDjsr5",
        "colab_type": "code",
        "outputId": "f6fbdf4e-4918-45b7-bef9-a1ce094997ad",
        "colab": {
          "base_uri": "https://localhost:8080/",
          "height": 85
        }
      },
      "source": [
        "user1 = {'Name':'Hitesh','Age':'19','EmailID':'hitesh25choudhary@gmail.com','MobileNumber':'9722458266'}\n",
        "user2 = user1.copy()\n",
        "print(user1)\n",
        "print(user2)\n",
        "user1['Address'] = 'Hyderabad'\n",
        "print(user1)\n",
        "print(user2)\n"
      ],
      "execution_count": 0,
      "outputs": [
        {
          "output_type": "stream",
          "text": [
            "{'Name': 'Hitesh', 'Age': '19', 'EmailID': 'hitesh25choudhary@gmail.com', 'MobileNumber': '9722458266'}\n",
            "{'Name': 'Hitesh', 'Age': '19', 'EmailID': 'hitesh25choudhary@gmail.com', 'MobileNumber': '9722458266'}\n",
            "{'Name': 'Hitesh', 'Age': '19', 'EmailID': 'hitesh25choudhary@gmail.com', 'MobileNumber': '9722458266', 'Address': 'Hyderabad'}\n",
            "{'Name': 'Hitesh', 'Age': '19', 'EmailID': 'hitesh25choudhary@gmail.com', 'MobileNumber': '9722458266'}\n"
          ],
          "name": "stdout"
        }
      ]
    },
    {
      "cell_type": "code",
      "metadata": {
        "id": "0ZpQU0uhmWiJ",
        "colab_type": "code",
        "outputId": "41e7e538-1d71-4b05-f7ad-dc7af3390368",
        "colab": {
          "base_uri": "https://localhost:8080/",
          "height": 34
        }
      },
      "source": [
        "user1 = {'Name':'Hitesh','Age':'19','EmailID':'hitesh25choudhary@gmail.com','MobileNumber':'9722458266'}\n",
        "print(user1.items())"
      ],
      "execution_count": 0,
      "outputs": [
        {
          "output_type": "stream",
          "text": [
            "dict_items([('Name', 'Hitesh'), ('Age', '19'), ('EmailID', 'hitesh25choudhary@gmail.com'), ('MobileNumber', '9722458266')])\n"
          ],
          "name": "stdout"
        }
      ]
    },
    {
      "cell_type": "code",
      "metadata": {
        "id": "ZXl_9GIsnhwm",
        "colab_type": "code",
        "outputId": "30d184ff-b7a7-472c-b608-c22825177dd3",
        "colab": {
          "base_uri": "https://localhost:8080/",
          "height": 51
        }
      },
      "source": [
        "user1 = {'Name':'Hitesh','Age':'19','EmailID':'hitesh25choudhary@gmail.com','MobileNumber':'9722458266'}\n",
        "user2 = user1.copy()\n",
        "print(user1.values())\n",
        "print(user2.values())"
      ],
      "execution_count": 0,
      "outputs": [
        {
          "output_type": "stream",
          "text": [
            "dict_values(['Hitesh', '19', 'hitesh25choudhary@gmail.com', '9722458266'])\n",
            "dict_values(['Hitesh', '19', 'hitesh25choudhary@gmail.com', '9722458266'])\n"
          ],
          "name": "stdout"
        }
      ]
    },
    {
      "cell_type": "markdown",
      "metadata": {
        "id": "ucxZyNBBobHP",
        "colab_type": "text"
      },
      "source": [
        "**String formatting**\n",
        "\n",
        "%s and %d is used"
      ]
    },
    {
      "cell_type": "code",
      "metadata": {
        "id": "RR2hMSoOpiVL",
        "colab_type": "code",
        "outputId": "53d19a4b-c4d7-4cbe-9fc0-1e731830ef3b",
        "colab": {
          "base_uri": "https://localhost:8080/",
          "height": 34
        }
      },
      "source": [
        "lst = ['python','programming']\n",
        "print(\"%s %s\"%(lst[0],lst[1]))"
      ],
      "execution_count": 0,
      "outputs": [
        {
          "output_type": "stream",
          "text": [
            "python programming\n"
          ],
          "name": "stdout"
        }
      ]
    },
    {
      "cell_type": "code",
      "metadata": {
        "id": "-9tY0IVTNyH2",
        "colab_type": "code",
        "outputId": "ca8b61ff-3739-4be9-b956-0b1f2fd07f25",
        "colab": {
          "base_uri": "https://localhost:8080/",
          "height": 34
        }
      },
      "source": [
        "lst = ['python','programming']\n",
        "print(\"{0} {1}\".format(lst[0],lst[1]))"
      ],
      "execution_count": 0,
      "outputs": [
        {
          "output_type": "stream",
          "text": [
            "python programming\n"
          ],
          "name": "stdout"
        }
      ]
    },
    {
      "cell_type": "code",
      "metadata": {
        "id": "iTXSRbzeOOVA",
        "colab_type": "code",
        "outputId": "42393f8e-6536-4adb-e653-984a3da890ce",
        "colab": {
          "base_uri": "https://localhost:8080/",
          "height": 34
        }
      },
      "source": [
        "lst = [1,2,3,4]\n",
        "print(\"%d %d %d %d\"%(lst[0],lst[1],lst[2],lst[3]))"
      ],
      "execution_count": 0,
      "outputs": [
        {
          "output_type": "stream",
          "text": [
            "1 2 3 4\n"
          ],
          "name": "stdout"
        }
      ]
    },
    {
      "cell_type": "code",
      "metadata": {
        "id": "XzdTwew1OgVA",
        "colab_type": "code",
        "outputId": "292f22a2-4a91-4bbe-c9da-b83ea4c86ae2",
        "colab": {
          "base_uri": "https://localhost:8080/",
          "height": 51
        }
      },
      "source": [
        "lst = [1,2,3,4]\n",
        "print(\"Value at : {0} value at : {1}\".format(lst[0],lst[1]))\n",
        "print(\"Value at : {0} value at : {1}\".format(lst[2],lst[3]))"
      ],
      "execution_count": 0,
      "outputs": [
        {
          "output_type": "stream",
          "text": [
            "Value at : 1 value at : 2\n",
            "Value at : 3 value at : 4\n"
          ],
          "name": "stdout"
        }
      ]
    },
    {
      "cell_type": "markdown",
      "metadata": {
        "id": "6xdAULdk8Y6P",
        "colab_type": "text"
      },
      "source": [
        "**Contact Application**\n",
        "\n",
        "\n",
        "1. Add new contact ----done\n",
        "\n",
        "2. search for contact----done\n",
        "\n",
        "3. List of all contacts----done\n",
        "\n",
        "   3.1 Name1-phone1\n",
        "   \n",
        "   3.2 Name2- phone2\n",
        "   \n",
        "   3.3 Importing new contact----done\n",
        "   \n",
        "   3.4 Merge to existing contacts \n",
        "   \n",
        " 4. remove contact----done\n",
        " \n",
        " 5. Modify conatact-----done\n",
        " "
      ]
    },
    {
      "cell_type": "code",
      "metadata": {
        "id": "kzNRbVPe9tUy",
        "colab_type": "code",
        "outputId": "d5de28c3-665f-4cca-b70e-710074d5e062",
        "colab": {
          "base_uri": "https://localhost:8080/",
          "height": 68
        }
      },
      "source": [
        "contact = {}\n",
        "def addContact(name,phone):\n",
        "  #verify the contact doesnot already exists\n",
        "  if name not in contact:\n",
        "    contact[name] = phone\n",
        "    print(\"contact %s added\" % name)\n",
        "  else:\n",
        "    print(\"contact %s already exists\" % name)\n",
        "    \n",
        "  return \n",
        "\n",
        "addContact(\"Hitesh\",9009843211)\n",
        "addContact(\"Hitesh\",9009843211)\n",
        "addContact(\"Siddharth\",9962482263)"
      ],
      "execution_count": 0,
      "outputs": [
        {
          "output_type": "stream",
          "text": [
            "contact Hitesh added\n",
            "contact Hitesh already exists\n",
            "contact Siddharth added\n"
          ],
          "name": "stdout"
        }
      ]
    },
    {
      "cell_type": "code",
      "metadata": {
        "id": "Aqn5z4zUArGj",
        "colab_type": "code",
        "outputId": "88fdc435-c29f-4893-8f08-389db1913b73",
        "colab": {
          "base_uri": "https://localhost:8080/",
          "height": 68
        }
      },
      "source": [
        "#search for ma particular contact from contact list\n",
        "\n",
        "def searchContact(name):\n",
        "  if name in contact:\n",
        "    print(name,\" : \" , contact[name])\n",
        "  else:\n",
        "    print(\"%s is not exists\" % name)\n",
        "  return\n",
        "\n",
        "searchContact(\"Hitesh\")\n",
        "searchContact(\"Siddharth\")\n",
        "searchContact(\"Megha\")\n",
        "  "
      ],
      "execution_count": 0,
      "outputs": [
        {
          "output_type": "stream",
          "text": [
            "Hitesh  :  9009843211\n",
            "Siddharth  :  9962482263\n",
            "Megha is not exists\n"
          ],
          "name": "stdout"
        }
      ]
    },
    {
      "cell_type": "code",
      "metadata": {
        "id": "qvj907hYDede",
        "colab_type": "code",
        "outputId": "30c13489-7f4c-4437-829b-111fb978b829",
        "colab": {
          "base_uri": "https://localhost:8080/",
          "height": 34
        }
      },
      "source": [
        "#New contact is given as a dictionary\n",
        "print(contact)"
      ],
      "execution_count": 0,
      "outputs": [
        {
          "output_type": "stream",
          "text": [
            "{'Hitesh': 9009843211, 'Siddharth': 9962482263}\n"
          ],
          "name": "stdout"
        }
      ]
    },
    {
      "cell_type": "code",
      "metadata": {
        "id": "OIS-RcGgEOqG",
        "colab_type": "code",
        "outputId": "fcf16ce0-4b66-4643-ba61-7055e7a2010c",
        "colab": {
          "base_uri": "https://localhost:8080/",
          "height": 34
        }
      },
      "source": [
        "#New contact is given as a dictionary\n",
        "#Merge new contact with existing contact list\n",
        "def importContact(newContact):\n",
        "  contact.update(newContact)\n",
        "  print(len(newContact.keys()),\"Contact added successfully\")\n",
        "  return\n",
        "newContact = {'Muzammil':8008976551,'Taha':9988776655}\n",
        "importContact(newContact)"
      ],
      "execution_count": 0,
      "outputs": [
        {
          "output_type": "stream",
          "text": [
            "2 Contact added successfully\n"
          ],
          "name": "stdout"
        }
      ]
    },
    {
      "cell_type": "code",
      "metadata": {
        "id": "8g6NMSriFZi8",
        "colab_type": "code",
        "outputId": "f3329177-5fe4-4d8f-874f-a6039acec589",
        "colab": {
          "base_uri": "https://localhost:8080/",
          "height": 34
        }
      },
      "source": [
        "print(contact)"
      ],
      "execution_count": 0,
      "outputs": [
        {
          "output_type": "stream",
          "text": [
            "{'Hitesh': 9009843211, 'Siddharth': 9962482263, 'Dinesh': 8008976544, 'Ajay': 9988776655, 'Muzammil': 8008976551, 'Taha': 9988776655}\n"
          ],
          "name": "stdout"
        }
      ]
    },
    {
      "cell_type": "code",
      "metadata": {
        "id": "DrEHJ72lHPxa",
        "colab_type": "code",
        "outputId": "371ae2df-3a2d-4629-f4fe-b621229b2976",
        "colab": {
          "base_uri": "https://localhost:8080/",
          "height": 85
        }
      },
      "source": [
        "#remove a contact from contact list\n",
        "def deleteContact(name):\n",
        "  if name in contact:\n",
        "    del contact[name]\n",
        "    print(name,\": is deleted from contact list\")\n",
        "  else:\n",
        "    print(name,\" is not exists in contact list\")\n",
        "  return\n",
        "deleteContact(\"Dinesh\")\n",
        "deleteContact(\"Ajay\")\n",
        "deleteContact(\"Muzammil\")\n",
        "deleteContact(\"Taha\")\n",
        "    "
      ],
      "execution_count": 0,
      "outputs": [
        {
          "output_type": "stream",
          "text": [
            "Dinesh : is deleted from contact list\n",
            "Ajay : is deleted from contact list\n",
            "Muzammil : is deleted from contact list\n",
            "Taha : is deleted from contact list\n"
          ],
          "name": "stdout"
        }
      ]
    },
    {
      "cell_type": "code",
      "metadata": {
        "id": "xpY3_M2RJEXp",
        "colab_type": "code",
        "outputId": "cc97b725-48a9-4842-d2ed-895bde1666fd",
        "colab": {
          "base_uri": "https://localhost:8080/",
          "height": 34
        }
      },
      "source": [
        "print(contact)"
      ],
      "execution_count": 0,
      "outputs": [
        {
          "output_type": "stream",
          "text": [
            "{'Hitesh': 9009843211, 'Siddharth': 9962482263}\n"
          ],
          "name": "stdout"
        }
      ]
    },
    {
      "cell_type": "code",
      "metadata": {
        "id": "wJ_G50lKJejX",
        "colab_type": "code",
        "outputId": "992f7887-ffaa-4d24-a679-b7549f738fba",
        "colab": {
          "base_uri": "https://localhost:8080/",
          "height": 68
        }
      },
      "source": [
        "#Modify contact from contact list\n",
        "def modifyContact(name,phone):\n",
        "  if name in contact:\n",
        "    contact[name] = phone\n",
        "    print(name,\"Modified with new phone number\")\n",
        "  else:\n",
        "    print(name,\"Does not exists in contact\")\n",
        "  return\n",
        "\n",
        "modifyContact(\"Hitesh\",9962441216)\n",
        "modifyContact(\"Siddharth\",9988776655)\n",
        "modifyContact(\"Megha\",8877665544)"
      ],
      "execution_count": 0,
      "outputs": [
        {
          "output_type": "stream",
          "text": [
            "Hitesh Modified with new phone number\n",
            "Siddharth Modified with new phone number\n",
            "Megha Does not exists in contact\n"
          ],
          "name": "stdout"
        }
      ]
    },
    {
      "cell_type": "markdown",
      "metadata": {
        "id": "2X46Iz2aPfU4",
        "colab_type": "text"
      },
      "source": [
        "**Pakages and modules**\n",
        "\n",
        "**Package**:-It is collection of modules(python file.py)\n",
        "\n",
        "**Sub packages**:-Its part of main package\n",
        "\n",
        "**Module**:- A single python file contains set of operations(Functions)\n",
        "\n",
        "*Package => Sub package => Modules => Functions*\n",
        "\n",
        "*#Standard Lib - - Math *"
      ]
    },
    {
      "cell_type": "code",
      "metadata": {
        "id": "XJIAGI3YPsZm",
        "colab_type": "code",
        "outputId": "5a55b5f6-b739-4cf2-ba27-f50f66b1f364",
        "colab": {
          "base_uri": "https://localhost:8080/",
          "height": 34
        }
      },
      "source": [
        "from math import floor as f1\n",
        "f1(123.456)"
      ],
      "execution_count": 0,
      "outputs": [
        {
          "output_type": "execute_result",
          "data": {
            "text/plain": [
              "123"
            ]
          },
          "metadata": {
            "tags": []
          },
          "execution_count": 122
        }
      ]
    },
    {
      "cell_type": "code",
      "metadata": {
        "id": "o122ypWZRXwz",
        "colab_type": "code",
        "outputId": "df457de4-a9c5-4d3e-be5b-76d9510c9915",
        "colab": {
          "base_uri": "https://localhost:8080/",
          "height": 34
        }
      },
      "source": [
        "from math import factorial as fact\n",
        "fact(5)"
      ],
      "execution_count": 0,
      "outputs": [
        {
          "output_type": "execute_result",
          "data": {
            "text/plain": [
              "120"
            ]
          },
          "metadata": {
            "tags": []
          },
          "execution_count": 123
        }
      ]
    },
    {
      "cell_type": "code",
      "metadata": {
        "id": "XzXmd1nURmgh",
        "colab_type": "code",
        "outputId": "a797e7a3-ae4c-46d0-9e96-2a97cb4b41b8",
        "colab": {
          "base_uri": "https://localhost:8080/",
          "height": 34
        }
      },
      "source": [
        "import math\n",
        "math.factorial(5)"
      ],
      "execution_count": 0,
      "outputs": [
        {
          "output_type": "execute_result",
          "data": {
            "text/plain": [
              "120"
            ]
          },
          "metadata": {
            "tags": []
          },
          "execution_count": 124
        }
      ]
    },
    {
      "cell_type": "code",
      "metadata": {
        "id": "NHsTuogNSS0-",
        "colab_type": "code",
        "outputId": "5ec84a30-71b1-4adc-aeb9-6a0b6577e3ac",
        "colab": {
          "base_uri": "https://localhost:8080/",
          "height": 34
        }
      },
      "source": [
        "#generate the random numbers between two limits\n",
        "import random\n",
        "def generateRandomNumbers(n,lb,ub):\n",
        "  for i in range(0,n):\n",
        "    print(random.randint(lb,ub),end=\" \")\n",
        "  return\n",
        "generateRandomNumbers(10,12,120)"
      ],
      "execution_count": 0,
      "outputs": [
        {
          "output_type": "stream",
          "text": [
            "65 92 107 82 98 23 54 77 29 47 "
          ],
          "name": "stdout"
        }
      ]
    },
    {
      "cell_type": "markdown",
      "metadata": {
        "id": "xEIYRaLYeVnx",
        "colab_type": "text"
      },
      "source": [
        "**Assignment:**\n",
        "\n",
        "1.Use math package - - Extract minimum of 10 functions\n",
        "\n",
        "2.Use random package - - Extract minimum of 10 functions"
      ]
    },
    {
      "cell_type": "code",
      "metadata": {
        "id": "Ld4njnRFdNNA",
        "colab_type": "code",
        "outputId": "2852edc9-e0b0-43c8-9e70-febb321e43bf",
        "colab": {
          "base_uri": "https://localhost:8080/",
          "height": 34
        }
      },
      "source": [
        "#Extracting minimum 10 functions in random\n",
        "import math\n",
        "\n",
        "    "
      ],
      "execution_count": 0,
      "outputs": [
        {
          "output_type": "stream",
          "text": [
            "4\n"
          ],
          "name": "stdout"
        }
      ]
    },
    {
      "cell_type": "code",
      "metadata": {
        "id": "slv6jNupjYtc",
        "colab_type": "code",
        "colab": {}
      },
      "source": [
        "#Extracting minimum 10 functions "
      ],
      "execution_count": 0,
      "outputs": []
    }
  ]
}