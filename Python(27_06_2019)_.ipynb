{
  "nbformat": 4,
  "nbformat_minor": 0,
  "metadata": {
    "colab": {
      "name": "Python(27-06-2019) .ipynb",
      "version": "0.3.2",
      "provenance": [],
      "collapsed_sections": [],
      "include_colab_link": true
    },
    "kernelspec": {
      "name": "python3",
      "display_name": "Python 3"
    }
  },
  "cells": [
    {
      "cell_type": "markdown",
      "metadata": {
        "id": "view-in-github",
        "colab_type": "text"
      },
      "source": [
        "<a href=\"https://colab.research.google.com/github/hitesh-choudhary25/Gitam19/blob/master/Python(27_06_2019)_.ipynb\" target=\"_parent\"><img src=\"https://colab.research.google.com/assets/colab-badge.svg\" alt=\"Open In Colab\"/></a>"
      ]
    },
    {
      "cell_type": "markdown",
      "metadata": {
        "id": "ZJOlBq28DT4O",
        "colab_type": "text"
      },
      "source": [
        "**File handling in python**\n",
        "\n",
        "File:- Document containing information residing on the permanent storage types- - \n",
        "\n",
        "    Doc,pdf,Text,Csv etc\n",
        "    \n",
        "    Read/write=> read() , write()\n",
        "    \n",
        "    open() - Open the file.\n",
        "    \n",
        "    close() - Close the file.\n",
        "    \n",
        "    open(filename,\"Mode of the file\")\n",
        "    \n",
        "    from above \"r\" - Its opens the file for reading .\n",
        "    \n",
        "                             \"w\" - The mode open the file writing.\n",
        "                                         \n",
        "                                          if the file name is not present,\n",
        "                                          \n",
        "                                          It creates a new file and write some data into it.\n",
        "\n",
        "id the file is already exists then the append mode "
      ]
    },
    {
      "cell_type": "markdown",
      "metadata": {
        "id": "4jxSKNALUbon",
        "colab_type": "text"
      },
      "source": [
        "**File handling modes**\n",
        "\n",
        "read mode - \"r\" for text files and \"rb\" for binary files. File pointer points at the beginning of the file.\n",
        ">>> myFile = open(\"file.txt\", \"r\")\n",
        "write mode - \"w\" for text files and \"wb\" for binary files. File pointer points at the beginning of the file.\n",
        ">>> myFile = open(\"file.txt\", \"w\")\n",
        "append mode - \"a\" for text files and \"ab\" for binary files. File pointer points at the end of the file.\n",
        ">>> myFile = open(\"file.txt\", \"a\")\n",
        "read/write mode - \"r+\" or \"w+\" provide the option for doing both read and write operation on the same file object. \"rb+\" or \"wb+\" for binary files. File pointer points at the beginning of the file.\n",
        ">>> myFile = open(\"file.txt\", \"r+\")\n",
        "append/read - \"a+\" to enable read/append mode, \"ab+\" for append/read mode on binary files. File pointer points at the end of the file.\n",
        ">>> myFile = open(\"file.txt\", \"a+\")"
      ]
    },
    {
      "cell_type": "code",
      "metadata": {
        "id": "YORwkJ0ZDCcC",
        "colab_type": "code",
        "outputId": "b3009522-ded1-484a-abe0-a51d9c1c0803",
        "colab": {
          "base_uri": "https://localhost:8080/",
          "height": 34
        }
      },
      "source": [
        "#function to create a file and write some data \n",
        "def createFile(filename):\n",
        "  f = open(filename,\"w\")\n",
        "  for i in range(10):\n",
        "    f.write(\"This is %d Line\\n\" % i)\n",
        "  print(\"File is successfully created and Data is created\")\n",
        "  f.close()\n",
        "  return\n",
        "createFile(\"File1.txt\")"
      ],
      "execution_count": 0,
      "outputs": [
        {
          "output_type": "stream",
          "text": [
            "File is successfully created and Data is created\n"
          ],
          "name": "stdout"
        }
      ]
    },
    {
      "cell_type": "code",
      "metadata": {
        "id": "UEk7Bsj-Hkqu",
        "colab_type": "code",
        "outputId": "0c6b793c-ddec-4590-90cb-42e9d6acf959",
        "colab": {
          "base_uri": "https://localhost:8080/",
          "height": 204
        }
      },
      "source": [
        "#function for reading file data\n",
        "def readFile(filename):\n",
        "  f = open(filename,\"r\")\n",
        "  if f.mode == \"r\":\n",
        "    x = f.read()\n",
        "    print(x)\n",
        "  f.close()\n",
        "  return\n",
        "\n",
        "readFile(\"File1.txt\")"
      ],
      "execution_count": 0,
      "outputs": [
        {
          "output_type": "stream",
          "text": [
            "This is 0 Line\n",
            "This is 1 Line\n",
            "This is 2 Line\n",
            "This is 3 Line\n",
            "This is 4 Line\n",
            "This is 5 Line\n",
            "This is 6 Line\n",
            "This is 7 Line\n",
            "This is 8 Line\n",
            "This is 9 Line\n",
            "\n"
          ],
          "name": "stdout"
        }
      ]
    },
    {
      "cell_type": "code",
      "metadata": {
        "id": "ZckzwvwMKLCM",
        "colab_type": "code",
        "outputId": "15772342-d80e-452a-dc68-5d1ce89633bc",
        "colab": {
          "base_uri": "https://localhost:8080/",
          "height": 34
        }
      },
      "source": [
        "def createFile(filename):\n",
        "  f = open(filename,\"w\")\n",
        "  for i in range(10):\n",
        "    f.write(\"Test %d Line\\n\" % i)\n",
        "  print(\"File is successfully created and Data is written\")\n",
        "  f.close()\n",
        "  return\n",
        "createFile(\"File1.txt\")"
      ],
      "execution_count": 0,
      "outputs": [
        {
          "output_type": "stream",
          "text": [
            "File is successfully created and Data is written\n"
          ],
          "name": "stdout"
        }
      ]
    },
    {
      "cell_type": "code",
      "metadata": {
        "id": "ZyIvhPuHTPxQ",
        "colab_type": "code",
        "outputId": "cc0f2392-f7d0-447c-dcb7-67cb990c0863",
        "colab": {
          "base_uri": "https://localhost:8080/",
          "height": 34
        }
      },
      "source": [
        "ls"
      ],
      "execution_count": 0,
      "outputs": [
        {
          "output_type": "stream",
          "text": [
            "File1.txt  \u001b[0m\u001b[01;34msample_data\u001b[0m/\n"
          ],
          "name": "stdout"
        }
      ]
    },
    {
      "cell_type": "code",
      "metadata": {
        "id": "VZC9DFuyTWWd",
        "colab_type": "code",
        "outputId": "d446893b-2611-4b61-e9f5-815180f9f588",
        "colab": {
          "base_uri": "https://localhost:8080/",
          "height": 187
        }
      },
      "source": [
        "cat File1.txt"
      ],
      "execution_count": 0,
      "outputs": [
        {
          "output_type": "stream",
          "text": [
            "Test 0 Line\n",
            "Test 1 Line\n",
            "Test 2 Line\n",
            "Test 3 Line\n",
            "Test 4 Line\n",
            "Test 5 Line\n",
            "Test 6 Line\n",
            "Test 7 Line\n",
            "Test 8 Line\n",
            "Test 9 Line\n"
          ],
          "name": "stdout"
        }
      ]
    },
    {
      "cell_type": "code",
      "metadata": {
        "id": "RZ29BiwzMDFg",
        "colab_type": "code",
        "outputId": "70e65941-d8e2-423e-cc62-b7d714bce010",
        "colab": {
          "base_uri": "https://localhost:8080/",
          "height": 34
        }
      },
      "source": [
        "x=1\n",
        "y=\"2\"\n",
        "z=3\n",
        "\n",
        "sum=0\n",
        "for i in (x,y,z):\n",
        "  if isinstance(i,int):\n",
        "    sum += i\n",
        "print(sum)    "
      ],
      "execution_count": 0,
      "outputs": [
        {
          "output_type": "stream",
          "text": [
            "4\n"
          ],
          "name": "stdout"
        }
      ]
    },
    {
      "cell_type": "code",
      "metadata": {
        "id": "4baVc-cBUEBt",
        "colab_type": "code",
        "outputId": "afc36019-736c-45aa-fba5-eb96424de35e",
        "colab": {
          "base_uri": "https://localhost:8080/",
          "height": 34
        }
      },
      "source": [
        "def createFile(filename):\n",
        "  f = open(filename,\"w\")\n",
        "  if i in range(20):\n",
        "    f.write(\" this is %d th line\"% i)\n",
        "    print(\"file is created and data is written\")\n",
        "    f.close()\n",
        "    return \n",
        "  \n",
        "createFile(\"file2.txt\")  "
      ],
      "execution_count": 0,
      "outputs": [
        {
          "output_type": "stream",
          "text": [
            "file is created and data is written\n"
          ],
          "name": "stdout"
        }
      ]
    },
    {
      "cell_type": "code",
      "metadata": {
        "id": "VgEgiwuZWFH_",
        "colab_type": "code",
        "outputId": "ba93d9ce-3629-4be6-aedc-4e7d984448f7",
        "colab": {
          "base_uri": "https://localhost:8080/",
          "height": 34
        }
      },
      "source": [
        "def readFile(filename):\n",
        "  f = open(filename,\"r\")\n",
        "  if f.mode == \"r\":\n",
        "    x = f.read()\n",
        "    print(x)\n",
        "  f.close()\n",
        "  return \n",
        "readFile(\"file2.txt\")\n",
        "  \n",
        "  "
      ],
      "execution_count": 0,
      "outputs": [
        {
          "output_type": "stream",
          "text": [
            " this is 3 th line\n"
          ],
          "name": "stdout"
        }
      ]
    },
    {
      "cell_type": "code",
      "metadata": {
        "id": "w8k4yqokYitV",
        "colab_type": "code",
        "colab": {}
      },
      "source": [
        "#data to append\n",
        "#file to append data to existing file\n",
        "def appendData(filename):\n",
        "  f = open(filename,\"a\")\n",
        "  f.write(\"New line 1\\n\")\n",
        "  f.write(\"New line 2\\n\")\n",
        "  f.close()\n",
        "  return \n",
        "appendData(\"File1.txt\")"
      ],
      "execution_count": 0,
      "outputs": []
    },
    {
      "cell_type": "code",
      "metadata": {
        "id": "hgI8kka4aCYk",
        "colab_type": "code",
        "outputId": "4856fe05-89e1-4c13-f2e3-7ae3e3a8a14e",
        "colab": {
          "base_uri": "https://localhost:8080/",
          "height": 34
        }
      },
      "source": [
        "def dataAnalysisWordCount(filename,word):\n",
        "  f = open(filename,\"r\")\n",
        "  if f.mode == \"r\":\n",
        "    x = f.read()\n",
        "    lst = x.split()\n",
        "  cnt = lst.count(word)\n",
        "  return cnt\n",
        "\n",
        "print(dataAnalysisWordCount(\"File1.txt\",\"rest\"))"
      ],
      "execution_count": 74,
      "outputs": [
        {
          "output_type": "stream",
          "text": [
            "0\n"
          ],
          "name": "stdout"
        }
      ]
    },
    {
      "cell_type": "code",
      "metadata": {
        "id": "Ntwugm4agu0a",
        "colab_type": "code",
        "outputId": "f74f7c59-f6e6-4406-e273-36fd74efb215",
        "colab": {
          "base_uri": "https://localhost:8080/",
          "height": 34
        }
      },
      "source": [
        "#function to count of characters in the file\n",
        "def countOfCharacters(filename):\n",
        "  f = open(filename,\"r\")\n",
        "  if f.mode ==\"r\":\n",
        "    x = f.read()\n",
        "    lst = list(x)\n",
        "  return(len(lst))\n",
        "print(countOfCharacters(\"File1.txt\"))  "
      ],
      "execution_count": 0,
      "outputs": [
        {
          "output_type": "stream",
          "text": [
            "164\n"
          ],
          "name": "stdout"
        }
      ]
    },
    {
      "cell_type": "code",
      "metadata": {
        "id": "Tj42mTo-j_GQ",
        "colab_type": "code",
        "outputId": "fbb820a3-b580-4969-aec1-ffc5b004e4fe",
        "colab": {
          "base_uri": "https://localhost:8080/",
          "height": 34
        }
      },
      "source": [
        "#function to count the upper case characters from given file\n",
        "def upperCaseCharacter(filename):\n",
        "  cntUpper = 0\n",
        "  f = open(filename,\"r\")\n",
        "  if f.mode == \"r\":\n",
        "    x = f.read()\n",
        "    lst = list(x)\n",
        "    for i in lst:\n",
        "      if i.isupper():\n",
        "        cntUpper += 1\n",
        "    return cntUpper\n",
        "\n",
        "upperCaseCharacter(\"File1.txt\")"
      ],
      "execution_count": 0,
      "outputs": [
        {
          "output_type": "execute_result",
          "data": {
            "text/plain": [
              "24"
            ]
          },
          "metadata": {
            "tags": []
          },
          "execution_count": 36
        }
      ]
    },
    {
      "cell_type": "code",
      "metadata": {
        "id": "5I3pa87_oTKf",
        "colab_type": "code",
        "outputId": "4759e7e7-b570-4199-8683-510315e1f595",
        "colab": {
          "base_uri": "https://localhost:8080/",
          "height": 34
        }
      },
      "source": [
        "#function to count of lines given in a file\n",
        "def countLineOfFile(filename):\n",
        "  f = open(filename,\"r\")\n",
        "  if f.mode == \"r\":\n",
        "    x = f.read()\n",
        "    lst = x.split(\"\\n\")\n",
        "  return len(lst) \n",
        "countLineOfFile(\"File1.txt\")  "
      ],
      "execution_count": 0,
      "outputs": [
        {
          "output_type": "execute_result",
          "data": {
            "text/plain": [
              "2"
            ]
          },
          "metadata": {
            "tags": []
          },
          "execution_count": 43
        }
      ]
    },
    {
      "cell_type": "markdown",
      "metadata": {
        "id": "1dzMkxamtWeQ",
        "colab_type": "text"
      },
      "source": [
        "**Regular Expressions**\n",
        "\n",
        "* Pattern amtching\n",
        "\n",
        "* symbolic notation of a pattern\n",
        "\n",
        "Pattern(RE) represants the set of the values that a given character\n",
        "\n",
        "*[0-9]  - - > Any digits\n",
        "\n",
        "*[a-z] - -> Any lower case characters\n",
        "\n",
        "*[A-Z] - -> Any upper case characters\n",
        "\n",
        "*[2468] - -> All the single digit multiples of 2\n",
        "\n",
        "*[0-9] - -> Only single digit number\n",
        "\n",
        "* (^) symbol is used for start of regular expression\n",
        "\n",
        "* ($) symbol is used to end of regular expression \n",
        "\n",
        "*^[0-9]{3}$ - -> Regular expression will accept only 3 numbers\n",
        "\n",
        "*^[a-z]{5}$ - -> It only accepts the 5 character string that to lower case characters\n",
        "\n",
        "*^[a-zA-z]{6}$ - -> A string can be upper or lower case characters and length of 6\n",
        "\n",
        "* ^[a-zA-z]{6-15}$ - -> A string min of 6 characters and max of 15 characters \n",
        "*^[a-zA-z0-9]{6-15}  - -> Upper,lower and digits\n",
        "\n",
        "* ^[6-9][0-9]{9}$ - -> RE for indian mobile number\n",
        "\n",
        "* ^[0][6-9][0-9]{9}$ - -> RE for indian mobile number\n",
        "\n",
        "* ^[+][9][1][6-9][0-9]{9}$ - -> RE for indian mobile number\n",
        "\n",
        "EmailID validation : Username@DomainName.extension\n",
        "\n",
        "**Username:**\n",
        " * length will be : [6-15]\n",
        " * NO special characters apart from  _ \n",
        " * Should not begin with and end with _\n",
        " * Character set : all digits and klower case alphabets\n",
        " \n",
        " **Domain Name:**\n",
        " * length of domain : [3,18]\n",
        " * No special  characters\n",
        "* Character set : all digits and lower case alphabets\n",
        "\n",
        "**Extension:**\n",
        "* Length of extension : [2:4]\n",
        "* No special characters\n",
        "* Character set : Lower case characters\n",
        " \n",
        " Regular Expression EmailID:\n",
        " ^[0-9a-z][0-9a-z_.]{4,13}[0-9a-z][@][a-z0-9]{3,18}[.][a-z]{2,4}$\n",
        "\n",
        "** ^[a]....[z]$ - -> Any string of length 5 start char is 'a' and end char is 'z'\n",
        "\n",
        "** ^[a].*[z]$ - -> Any string of any length that starts char is 'a' or 'z' \n",
        " \n"
      ]
    },
    {
      "cell_type": "code",
      "metadata": {
        "id": "ibN3DQDSJlE8",
        "colab_type": "code",
        "outputId": "346dfe73-0cd4-467b-f630-da0876196187",
        "colab": {
          "base_uri": "https://localhost:8080/",
          "height": 85
        }
      },
      "source": [
        "import re\n",
        "def phoneNumberValidate(phone):\n",
        "  pattern = '^[6-9][0-9]{9}$|^[0][6-9][0-9]{9}$|^[+][9][1][6-9][0-9]{9}$' \n",
        "  phone = str(phone)\n",
        "  if re.match(pattern,phone):\n",
        "    return True\n",
        "  return False\n",
        "print(phoneNumberValidate(\"9963201812\"))\n",
        "print(phoneNumberValidate(\"9988776655\"))\n",
        "print(phoneNumberValidate(\"998877665544\"))\n",
        "print(phoneNumberValidate(\"08008976542\"))"
      ],
      "execution_count": 0,
      "outputs": [
        {
          "output_type": "stream",
          "text": [
            "True\n",
            "True\n",
            "False\n",
            "True\n"
          ],
          "name": "stdout"
        }
      ]
    },
    {
      "cell_type": "code",
      "metadata": {
        "id": "BTGeytBLOWzY",
        "colab_type": "code",
        "outputId": "881b7e9c-d9f6-434a-93ec-107e6d463cbf",
        "colab": {
          "base_uri": "https://localhost:8080/",
          "height": 51
        }
      },
      "source": [
        "import re\n",
        "def validateRollNumber(number):\n",
        "  pattern = '[1][5][2][U][1][A][0][1-9][0-6][0-9]$';\n",
        "  number = str(number)\n",
        "  if re.match(pattern,number):\n",
        "    return True\n",
        "  return False\n",
        "print(validateRollNumber(\"152U1A0555\"))\n",
        "print(validateRollNumber(\"152U1A0485\"))"
      ],
      "execution_count": 0,
      "outputs": [
        {
          "output_type": "stream",
          "text": [
            "True\n",
            "False\n"
          ],
          "name": "stdout"
        }
      ]
    },
    {
      "cell_type": "code",
      "metadata": {
        "id": "NtEWgpoyRa6_",
        "colab_type": "code",
        "outputId": "690e5d3a-42d5-4d65-9e21-373fc86c7334",
        "colab": {
          "base_uri": "https://localhost:8080/",
          "height": 34
        }
      },
      "source": [
        "#validation of email Username@DomainName.extension\n",
        "import re\n",
        "def validateEmailID(email):\n",
        "  pattern = \"^[0-9a-z][0-9a-z_.]{4,13}[0-9a-z][@][a-z0-9]{3,18}[.][a-z]{2,4}$\"\n",
        "  if re.match(pattern,email):\n",
        "    return True\n",
        "  return False\n",
        "print(validateEmailID(\"hitesh25choudhary@gmail.com\"))"
      ],
      "execution_count": 101,
      "outputs": [
        {
          "output_type": "stream",
          "text": [
            "False\n"
          ],
          "name": "stdout"
        }
      ]
    },
    {
      "cell_type": "code",
      "metadata": {
        "id": "JwATygpaXdGZ",
        "colab_type": "code",
        "colab": {
          "base_uri": "https://localhost:8080/",
          "height": 51
        },
        "outputId": "25cfc863-f180-4100-91a1-d886a238a869"
      },
      "source": [
        "#Regular expression - - Password \n",
        "#parameters : 6-15\n",
        "#accept lowwer case,  uppercase ,special symbols (@,$,#,!)\n",
        "import re\n",
        "def validatePassword(password):\n",
        "  pattern = \"^[a-zA-Z]\\w{6,15}$\"\n",
        "  password = str(password)\n",
        "  if re.match(pattern,password):\n",
        "    return True\n",
        "  return False\n",
        "print(validatePassword(\"highpower1214\"))\n",
        "print(validatePassword(\"abcd\"))\n",
        "print()\n"
      ],
      "execution_count": 71,
      "outputs": [
        {
          "output_type": "stream",
          "text": [
            "True\n",
            "False\n"
          ],
          "name": "stdout"
        }
      ]
    },
    {
      "cell_type": "markdown",
      "metadata": {
        "id": "23i2auhZlTxQ",
        "colab_type": "text"
      },
      "source": [
        "**Assignments**\n",
        "\n",
        "1. File on the virtual or local machine\n",
        "\n",
        "2. Need to write the data to the file\n",
        "\n",
        "3. Need to return the count of lower case characters \n",
        "\n",
        "4. Need to return the count of digits\n",
        "\n",
        "5. Need to return the count of special characters\n",
        "\n",
        "6. Need to create a file which these parameters name,EmailID, Mobile number,\n",
        "\n",
        "    validate EmailID,Mobile number"
      ]
    },
    {
      "cell_type": "code",
      "metadata": {
        "id": "-EeVytFCmKas",
        "colab_type": "code",
        "colab": {
          "base_uri": "https://localhost:8080/",
          "height": 34
        },
        "outputId": "786e7344-ae2a-451d-cc9f-52f46fbb473b"
      },
      "source": [
        "def createFile(filename):\n",
        "  f = open(filename,\"w\")\n",
        "  for i in range(10):\n",
        "    f.write(\"This is %d line\\n\" % i)\n",
        "  print(\"file is successfully created and data is stored\")\n",
        "  f.close()\n",
        "  return\n",
        "createFile(\"file3.txt\")\n",
        "  "
      ],
      "execution_count": 72,
      "outputs": [
        {
          "output_type": "stream",
          "text": [
            "file is successfully created and data is stored\n"
          ],
          "name": "stdout"
        }
      ]
    },
    {
      "cell_type": "code",
      "metadata": {
        "id": "xsYwk3KCoTQ6",
        "colab_type": "code",
        "colab": {
          "base_uri": "https://localhost:8080/",
          "height": 204
        },
        "outputId": "c180e74f-e0fa-4807-d76f-b8ae01ebcf93"
      },
      "source": [
        "def readFile(filename):\n",
        "  f = open(filename,\"r\")\n",
        "  if f.mode == \"r\":\n",
        "    x = f.read()\n",
        "    print(x)\n",
        "  f.close()\n",
        "  return\n",
        "\n",
        "readFile(\"file3.txt\")"
      ],
      "execution_count": 73,
      "outputs": [
        {
          "output_type": "stream",
          "text": [
            "This is 0 line\n",
            "This is 1 line\n",
            "This is 2 line\n",
            "This is 3 line\n",
            "This is 4 line\n",
            "This is 5 line\n",
            "This is 6 line\n",
            "This is 7 line\n",
            "This is 8 line\n",
            "This is 9 line\n",
            "\n"
          ],
          "name": "stdout"
        }
      ]
    },
    {
      "cell_type": "code",
      "metadata": {
        "id": "ZGtj26wioivE",
        "colab_type": "code",
        "colab": {
          "base_uri": "https://localhost:8080/",
          "height": 34
        },
        "outputId": "f919073e-d78b-4528-ca69-3f76a82ecf4c"
      },
      "source": [
        "def lowerCaseCharacter(filename):\n",
        "  cntlower = 0\n",
        "  cntUpper = 0\n",
        "  cntdigits = 0\n",
        "  spl = 0\n",
        "  f = open(filename,\"r\")\n",
        "  if f.mode == \"r\":\n",
        "    x = f.read()\n",
        "    lst = list(x)\n",
        "    for i in lst:\n",
        "      if i.islower():\n",
        "        cntlower += 1\n",
        "      elif(i.isupper()):\n",
        "        cntUpper += 1\n",
        "      elif(i.isdigit()):\n",
        "        cntdigits += 1\n",
        "      else:\n",
        "        spl = spl + 1\n",
        "    return cntlower, cntUpper , cntdigits, spl\n",
        "\n",
        "lowerCaseCharacter(\"file3.txt\")"
      ],
      "execution_count": 79,
      "outputs": [
        {
          "output_type": "execute_result",
          "data": {
            "text/plain": [
              "(90, 10, 10, 40)"
            ]
          },
          "metadata": {
            "tags": []
          },
          "execution_count": 79
        }
      ]
    },
    {
      "cell_type": "code",
      "metadata": {
        "id": "-UicZZvzrTji",
        "colab_type": "code",
        "colab": {
          "base_uri": "https://localhost:8080/",
          "height": 85
        },
        "outputId": "a2bf38fb-3103-43d1-de6b-a8cfabf51f27"
      },
      "source": [
        "import re\n",
        "def validateMobileNumber(phone):\n",
        "  pattern = \"^[6-9][0-9]{9}$|^[0][6-9][0-9]{9}$|[+][9][1][6-9][0-9][{9}$]\"\n",
        "  phone = str(phone)\n",
        "  if re.match(pattern,phone):\n",
        "    return True\n",
        "  return False\n",
        "print(validateMobileNumber(\"08008943266\"))\n",
        "print(validateMobileNumber(\"+919391136645\"))\n",
        "print(validateMobileNumber(\"9391136677\"))\n",
        "print(validateMobileNumber(\"998877665544\"))"
      ],
      "execution_count": 83,
      "outputs": [
        {
          "output_type": "stream",
          "text": [
            "True\n",
            "True\n",
            "True\n",
            "False\n"
          ],
          "name": "stdout"
        }
      ]
    },
    {
      "cell_type": "code",
      "metadata": {
        "id": "uf_OOVVvu9Ji",
        "colab_type": "code",
        "colab": {
          "base_uri": "https://localhost:8080/",
          "height": 51
        },
        "outputId": "a7fdc623-e2cb-43f1-8b96-31e21ee6c7c8"
      },
      "source": [
        "#validation of email Username@DomainName.extension\n",
        "import re\n",
        "def validateEmailID(email):\n",
        "  pattern = \"^[0-9a-z][0-9a-z_.]{4,20}[0-9a-z][@][a-z0-9]{3,18}[.][a-z]{2,4}$\"\n",
        "  if re.match(pattern,email):\n",
        "    return True\n",
        "  return False\n",
        "print(validateEmailID(\"hitesh25choudhary@gmail.com\"))\n",
        "print(validateEmailID(\"c_e_s37@yahoo.com\"))"
      ],
      "execution_count": 104,
      "outputs": [
        {
          "output_type": "stream",
          "text": [
            "True\n",
            "True\n"
          ],
          "name": "stdout"
        }
      ]
    },
    {
      "cell_type": "code",
      "metadata": {
        "id": "FPEq31Ajv5rS",
        "colab_type": "code",
        "colab": {}
      },
      "source": [
        ""
      ],
      "execution_count": 0,
      "outputs": []
    }
  ]
}