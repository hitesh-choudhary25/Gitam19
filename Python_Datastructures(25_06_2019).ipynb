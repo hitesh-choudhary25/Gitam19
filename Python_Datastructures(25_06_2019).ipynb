{
  "nbformat": 4,
  "nbformat_minor": 0,
  "metadata": {
    "colab": {
      "name": "Python Datastructures(25-06-2019)",
      "version": "0.3.2",
      "provenance": [],
      "collapsed_sections": [],
      "include_colab_link": true
    },
    "kernelspec": {
      "name": "python3",
      "display_name": "Python 3"
    }
  },
  "cells": [
    {
      "cell_type": "markdown",
      "metadata": {
        "id": "view-in-github",
        "colab_type": "text"
      },
      "source": [
        "<a href=\"https://colab.research.google.com/github/hitesh-choudhary25/Gitam19/blob/master/Python_Datastructures(25_06_2019).ipynb\" target=\"_parent\"><img src=\"https://colab.research.google.com/assets/colab-badge.svg\" alt=\"Open In Colab\"/></a>"
      ]
    },
    {
      "cell_type": "markdown",
      "metadata": {
        "id": "H-ybTDfkx8Em",
        "colab_type": "text"
      },
      "source": [
        "**Binary Search**\n",
        "\n",
        "*This binary search can only applied on sorted list,not in unsorted list\n",
        "\n",
        "*This binary search can be applied on Unique list \n",
        "\n",
        "**Sample Example**"
      ]
    },
    {
      "cell_type": "code",
      "metadata": {
        "id": "Ss_gEYYquGKA",
        "colab_type": "code",
        "outputId": "b89ce20d-ff3e-439a-9868-9a7d17e968d6",
        "colab": {
          "base_uri": "https://localhost:8080/",
          "height": 34
        }
      },
      "source": [
        "def binarySearch(a,lIndex,rIndex,tarItem):\n",
        "  while lIndex <= rIndex:\n",
        "    mIndex = lIndex + (rIndex - lIndex)//2\n",
        "    if a[mIndex] == tarItem:\n",
        "      return mIndex\n",
        "    if a[mIndex] > tarItem:\n",
        "      rIndex = mIndex + 1\n",
        "    else:\n",
        "      lIndex = mIndex + 1\n",
        "  return -1\n",
        "list1=[1,4,9,15,25,45,57,88,98]\n",
        "res = binarySearch(list1,0,8,818)\n",
        "if res != -1:\n",
        "  print(\"Item is found\")\n",
        "else:\n",
        "  print(\"Item is not found\")"
      ],
      "execution_count": 0,
      "outputs": [
        {
          "output_type": "stream",
          "text": [
            "Item is not found\n"
          ],
          "name": "stdout"
        }
      ]
    },
    {
      "cell_type": "markdown",
      "metadata": {
        "id": "lwEUR59L7x_s",
        "colab_type": "text"
      },
      "source": [
        "**Sorting Alogorithm Techniques**\n",
        "\n",
        "1. Bubble sort:- Bubble sort compares the adjacent items. (next number).\n",
        "\n",
        "If the first item is greater than second item,then it's required to swap the items. \n",
        "\n",
        "The complex - n* n \n"
      ]
    },
    {
      "cell_type": "code",
      "metadata": {
        "id": "WDNKEMc5986E",
        "colab_type": "code",
        "outputId": "7e27624c-ca09-4508-b313-19f84f0e47ba",
        "colab": {
          "base_uri": "https://localhost:8080/",
          "height": 34
        }
      },
      "source": [
        "def bubbleSort(a):\n",
        "  for i in range(len(a)-1):\n",
        "    for j in range(len(a)-1):\n",
        "      if a[j] > a[j+1]:\n",
        "        a[j],a[j+1] = a[j+1],a[j]\n",
        "        \n",
        "  for i in range(len(a)):\n",
        "      print(a[i],end=\" \")\n",
        "      \n",
        "list1=[19,1,25,6,18,3]\n",
        "list1.sort()\n",
        "print(list1)"
      ],
      "execution_count": 0,
      "outputs": [
        {
          "output_type": "stream",
          "text": [
            "[1, 3, 6, 18, 19, 25]\n"
          ],
          "name": "stdout"
        }
      ]
    },
    {
      "cell_type": "markdown",
      "metadata": {
        "id": "_x6P0g9QDGFy",
        "colab_type": "text"
      },
      "source": [
        "**Strings in python**\n",
        "\n",
        "A string is a sequence of characters\n",
        "\n",
        "The conversion of character to a number is happens with ASCII numbers\n",
        "\n",
        "**ASCII number**: \n",
        "\n",
        "A-Z= 65-90\n",
        "\n",
        "a-z= 97-122\n",
        "\n",
        "0-9= 48-57"
      ]
    },
    {
      "cell_type": "code",
      "metadata": {
        "id": "p7bgiEg8D-iD",
        "colab_type": "code",
        "outputId": "057c9dba-5c23-49b2-a318-0ac1fee43aa2",
        "colab": {
          "base_uri": "https://localhost:8080/",
          "height": 153
        }
      },
      "source": [
        "#creating a string\n",
        "str1=\"Application\"\n",
        "print(str1)\n",
        "\n",
        "str2='Application'\n",
        "print(str2)\n",
        "\n",
        "str3=\"\"\"Application test\n",
        "      working\n",
        "      Completed\n",
        "      list\n",
        "      strings\n",
        "      Python\"\"\"\n",
        "print(str3)"
      ],
      "execution_count": 0,
      "outputs": [
        {
          "output_type": "stream",
          "text": [
            "Application\n",
            "Application\n",
            "Application test\n",
            "      working\n",
            "      Completed\n",
            "      list\n",
            "      strings\n",
            "      Python\n"
          ],
          "name": "stdout"
        }
      ]
    },
    {
      "cell_type": "markdown",
      "metadata": {
        "id": "6BcZ8fYGGOFq",
        "colab_type": "text"
      },
      "source": [
        "**Searching a string**"
      ]
    },
    {
      "cell_type": "code",
      "metadata": {
        "id": "zCRCe-TxGLtz",
        "colab_type": "code",
        "outputId": "b8de2284-eade-402f-cede-f3f4f950eb8e",
        "colab": {
          "base_uri": "https://localhost:8080/",
          "height": 170
        }
      },
      "source": [
        "str = \"Application\"\n",
        "print(str)\n",
        "print(\"str[0] = \",str[0])\n",
        "print(\"str[1] = \",str[1])\n",
        "print(\"str[-1] = \",str[-1])\n",
        "print(\"str[-3] = \",str[-3])\n",
        "print(\"str[1:5] = \",str[1:5])\n",
        "print(\"str[:5] = \",str[:5])\n",
        "print(\"str[5:-2] = \",str[5:-2])\n",
        "print(\"str[::-1] = \",str[::-1])"
      ],
      "execution_count": 0,
      "outputs": [
        {
          "output_type": "stream",
          "text": [
            "Application\n",
            "str[0] =  A\n",
            "str[1] =  p\n",
            "str[-1] =  n\n",
            "str[-3] =  i\n",
            "str[1:5] =  ppli\n",
            "str[:5] =  Appli\n",
            "str[5:-2] =  cati\n",
            "str[::-1] =  noitacilppA\n"
          ],
          "name": "stdout"
        }
      ]
    },
    {
      "cell_type": "markdown",
      "metadata": {
        "id": "HI54kMtQa7Nb",
        "colab_type": "text"
      },
      "source": [
        "Identify the upper case letters "
      ]
    },
    {
      "cell_type": "code",
      "metadata": {
        "id": "RCL6W5CdZgM9",
        "colab_type": "code",
        "outputId": "a1751b3e-6a62-478e-e07b-1eb5fed17e51",
        "colab": {
          "base_uri": "https://localhost:8080/",
          "height": 51
        }
      },
      "source": [
        "def countUpperCase(str):\n",
        "  count = 0\n",
        "  lst = list(str)\n",
        "  for x in range(len(lst)):\n",
        "    if ord(lst[x]) >= 65 and ord(lst[x]) <= 90:\n",
        "      count = count + 1\n",
        "  return count\n",
        "\n",
        "print(countUpperCase(\"Application\"))\n",
        "print(countUpperCase(\"TeST\"))\n",
        "\n"
      ],
      "execution_count": 0,
      "outputs": [
        {
          "output_type": "stream",
          "text": [
            "1\n",
            "3\n"
          ],
          "name": "stdout"
        }
      ]
    },
    {
      "cell_type": "markdown",
      "metadata": {
        "id": "rRARt9mpCg_K",
        "colab_type": "text"
      },
      "source": [
        ""
      ]
    },
    {
      "cell_type": "markdown",
      "metadata": {
        "id": "DmdYA8SmbApp",
        "colab_type": "text"
      },
      "source": [
        "**Example**\n",
        "\n",
        "**print the case**\n",
        "\n",
        "Test cases :\n",
        "\n",
        "Application1889--1889\n",
        "\n",
        "Te1520st--1520"
      ]
    },
    {
      "cell_type": "code",
      "metadata": {
        "id": "iagasCEKbUu0",
        "colab_type": "code",
        "outputId": "65ef70bd-a0c0-42c5-c674-56966f6f6434",
        "colab": {
          "base_uri": "https://localhost:8080/",
          "height": 51
        }
      },
      "source": [
        "def printDigits(str):\n",
        "  lst = list(str)\n",
        "  for x in range(0,len(lst)):\n",
        "    if ord(lst[x]) >= 48 and ord(lst[x]) <= 57:\n",
        "      print(lst[x],end=\"\")\n",
        "\n",
        "print(printDigits(\"Application1889\"))\n",
        "print(printDigits(\"hc101\"))  \n",
        "  \n",
        "  "
      ],
      "execution_count": 0,
      "outputs": [
        {
          "output_type": "stream",
          "text": [
            "1889None\n",
            "101None\n"
          ],
          "name": "stdout"
        }
      ]
    },
    {
      "cell_type": "markdown",
      "metadata": {
        "id": "8yAj3hJDiLSY",
        "colab_type": "text"
      },
      "source": [
        "**Example 2**\n",
        "\n",
        "**Add the digits in the given string**\n",
        "\n",
        "Test cases:\n",
        "\n",
        "Application189--18\n",
        "\n",
        "te1871st--17"
      ]
    },
    {
      "cell_type": "code",
      "metadata": {
        "id": "vtapBSMTiix0",
        "colab_type": "code",
        "outputId": "97942404-2754-45fa-86a9-40b492f1e810",
        "colab": {
          "base_uri": "https://localhost:8080/",
          "height": 34
        }
      },
      "source": [
        "def sumofDigits(str):\n",
        "  sum=0\n",
        "  lst=list(str)\n",
        "  for x in range(len(lst)):\n",
        "    if ord(lst[x]) >= 48 and ord(lst[x]) <= 57:\n",
        "      sum = sum + ord(lst[x]) - 48\n",
        "      \n",
        "  return sum\n",
        "sumofDigits(\"Application189\")"
      ],
      "execution_count": 0,
      "outputs": [
        {
          "output_type": "execute_result",
          "data": {
            "text/plain": [
              "18"
            ]
          },
          "metadata": {
            "tags": []
          },
          "execution_count": 41
        }
      ]
    },
    {
      "cell_type": "markdown",
      "metadata": {
        "id": "gCfp75Tm4JAT",
        "colab_type": "text"
      },
      "source": [
        "**Example 3**\n",
        "\n",
        "Add only even digits to sum\n",
        "\n",
        "test case:-\n",
        "\n",
        "Application1889--16\n",
        "\n",
        "Te1591st--0\n",
        "\n",
        "Wor7852king--10"
      ]
    },
    {
      "cell_type": "code",
      "metadata": {
        "id": "d6qZR-ev4REI",
        "colab_type": "code",
        "outputId": "0bff3729-dfe4-4124-d968-3b5ac8268a63",
        "colab": {
          "base_uri": "https://localhost:8080/",
          "height": 51
        }
      },
      "source": [
        "def sumOnlyEvenDigits(str):\n",
        "  sum = 0\n",
        "  lst=list(str)\n",
        "  for x in range(len(lst)):\n",
        "    if ord(lst[x]) >= 48 and ord(lst[x]) <= 57:\n",
        "      ac = ord(lst[x]) - 48\n",
        "      if(ac%2==0):\n",
        "        sum = sum + ac\n",
        "  return sum\n",
        "\n",
        "print(sumOnlyEvenDigits(\"Application1889\"))\n",
        "print(sumOnlyEvenDigits(\"hc101\"))\n",
        "  \n"
      ],
      "execution_count": 0,
      "outputs": [
        {
          "output_type": "stream",
          "text": [
            "16\n",
            "0\n"
          ],
          "name": "stdout"
        }
      ]
    },
    {
      "cell_type": "markdown",
      "metadata": {
        "id": "K5G90uES9cOz",
        "colab_type": "text"
      },
      "source": [
        "**Example 4**\n",
        "\n",
        "If the input character is upper case character and then convert lower case.\n",
        "\n",
        "If the character is lower case character and then convert upper case \n",
        "\n",
        "\n",
        "test case :\n",
        "\n",
        "AppLICation-- aPPlicATION\n",
        "\n",
        "TesT--tESt"
      ]
    },
    {
      "cell_type": "code",
      "metadata": {
        "id": "mnUDIbHq_Brf",
        "colab_type": "code",
        "outputId": "eb9b1b81-2a79-4a28-cd63-08cbf8727a10",
        "colab": {
          "base_uri": "https://localhost:8080/",
          "height": 333
        }
      },
      "source": [
        "def caseConversion(str):\n",
        "  b=''\n",
        "  list1=list(str)\n",
        "  for x in range(len(list1)):\n",
        "    if ord(list1[x]) >= 65 and ord(list1[x]) <= 90:\n",
        "      ch = chr(ord(list1[x]) + 32)\n",
        "      b=b+ch\n",
        "    elif ord(list1[x]) >= 97 and ord(list1[x]) <= 122:\n",
        "      ch = chr(ord(list1[x]) - 32)\n",
        "      b=b-ch\n",
        "  print(b)\n",
        "\n",
        "print(caseConversion(\"TesT\"))\n",
        "  "
      ],
      "execution_count": 2,
      "outputs": [
        {
          "output_type": "error",
          "ename": "TypeError",
          "evalue": "ignored",
          "traceback": [
            "\u001b[0;31m---------------------------------------------------------------------------\u001b[0m",
            "\u001b[0;31mTypeError\u001b[0m                                 Traceback (most recent call last)",
            "\u001b[0;32m<ipython-input-2-439e5cae7f43>\u001b[0m in \u001b[0;36m<module>\u001b[0;34m()\u001b[0m\n\u001b[1;32m     11\u001b[0m   \u001b[0mprint\u001b[0m\u001b[0;34m(\u001b[0m\u001b[0mb\u001b[0m\u001b[0;34m)\u001b[0m\u001b[0;34m\u001b[0m\u001b[0;34m\u001b[0m\u001b[0m\n\u001b[1;32m     12\u001b[0m \u001b[0;34m\u001b[0m\u001b[0m\n\u001b[0;32m---> 13\u001b[0;31m \u001b[0mprint\u001b[0m\u001b[0;34m(\u001b[0m\u001b[0mcaseConversion\u001b[0m\u001b[0;34m(\u001b[0m\u001b[0;34m\"TesT\"\u001b[0m\u001b[0;34m)\u001b[0m\u001b[0;34m)\u001b[0m\u001b[0;34m\u001b[0m\u001b[0;34m\u001b[0m\u001b[0m\n\u001b[0m\u001b[1;32m     14\u001b[0m \u001b[0;34m\u001b[0m\u001b[0m\n",
            "\u001b[0;32m<ipython-input-2-439e5cae7f43>\u001b[0m in \u001b[0;36mcaseConversion\u001b[0;34m(str)\u001b[0m\n\u001b[1;32m      8\u001b[0m     \u001b[0;32melif\u001b[0m \u001b[0mord\u001b[0m\u001b[0;34m(\u001b[0m\u001b[0mlist1\u001b[0m\u001b[0;34m[\u001b[0m\u001b[0mx\u001b[0m\u001b[0;34m]\u001b[0m\u001b[0;34m)\u001b[0m \u001b[0;34m>=\u001b[0m \u001b[0;36m97\u001b[0m \u001b[0;32mand\u001b[0m \u001b[0mord\u001b[0m\u001b[0;34m(\u001b[0m\u001b[0mlist1\u001b[0m\u001b[0;34m[\u001b[0m\u001b[0mx\u001b[0m\u001b[0;34m]\u001b[0m\u001b[0;34m)\u001b[0m \u001b[0;34m<=\u001b[0m \u001b[0;36m122\u001b[0m\u001b[0;34m:\u001b[0m\u001b[0;34m\u001b[0m\u001b[0;34m\u001b[0m\u001b[0m\n\u001b[1;32m      9\u001b[0m       \u001b[0mch\u001b[0m \u001b[0;34m=\u001b[0m \u001b[0mchr\u001b[0m\u001b[0;34m(\u001b[0m\u001b[0mord\u001b[0m\u001b[0;34m(\u001b[0m\u001b[0mlist1\u001b[0m\u001b[0;34m[\u001b[0m\u001b[0mx\u001b[0m\u001b[0;34m]\u001b[0m\u001b[0;34m)\u001b[0m \u001b[0;34m-\u001b[0m \u001b[0;36m32\u001b[0m\u001b[0;34m)\u001b[0m\u001b[0;34m\u001b[0m\u001b[0;34m\u001b[0m\u001b[0m\n\u001b[0;32m---> 10\u001b[0;31m       \u001b[0mb\u001b[0m\u001b[0;34m=\u001b[0m\u001b[0mb\u001b[0m\u001b[0;34m-\u001b[0m\u001b[0mch\u001b[0m\u001b[0;34m\u001b[0m\u001b[0;34m\u001b[0m\u001b[0m\n\u001b[0m\u001b[1;32m     11\u001b[0m   \u001b[0mprint\u001b[0m\u001b[0;34m(\u001b[0m\u001b[0mb\u001b[0m\u001b[0;34m)\u001b[0m\u001b[0;34m\u001b[0m\u001b[0;34m\u001b[0m\u001b[0m\n\u001b[1;32m     12\u001b[0m \u001b[0;34m\u001b[0m\u001b[0m\n",
            "\u001b[0;31mTypeError\u001b[0m: unsupported operand type(s) for -: 'str' and 'str'"
          ]
        }
      ]
    },
    {
      "cell_type": "markdown",
      "metadata": {
        "id": "CXw8HGgvLQf6",
        "colab_type": "text"
      },
      "source": [
        "**Alternate characters printing from both the strings\n",
        "\n",
        "Test cases:-\n",
        "\n",
        "\"ab\",:xyz\"--axbycd"
      ]
    },
    {
      "cell_type": "markdown",
      "metadata": {
        "id": "y0cRM7mzoFXv",
        "colab_type": "text"
      },
      "source": [
        "**String only specific word in upper cases:\n",
        "\n",
        "Application Test woring--TEST\n",
        "\n",
        "Python is easy--IS"
      ]
    },
    {
      "cell_type": "code",
      "metadata": {
        "id": "ypMf-QxYh4q2",
        "colab_type": "code",
        "colab": {}
      },
      "source": [
        "def specificWord(str):\n",
        "  lst=list(str)\n",
        "  for x in range(len(lst)):\n",
        "    \n",
        "  \n",
        "  \n",
        "  return"
      ],
      "execution_count": 0,
      "outputs": []
    }
  ]
}