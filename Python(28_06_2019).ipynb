{
  "nbformat": 4,
  "nbformat_minor": 0,
  "metadata": {
    "colab": {
      "name": "Python(28-06-2019).ipynb",
      "version": "0.3.2",
      "provenance": [],
      "collapsed_sections": [],
      "include_colab_link": true
    },
    "kernelspec": {
      "name": "python3",
      "display_name": "Python 3"
    }
  },
  "cells": [
    {
      "cell_type": "markdown",
      "metadata": {
        "id": "view-in-github",
        "colab_type": "text"
      },
      "source": [
        "<a href=\"https://colab.research.google.com/github/hitesh-choudhary25/Gitam19/blob/master/Python(28_06_2019).ipynb\" target=\"_parent\"><img src=\"https://colab.research.google.com/assets/colab-badge.svg\" alt=\"Open In Colab\"/></a>"
      ]
    },
    {
      "cell_type": "markdown",
      "metadata": {
        "id": "oh4OB9UALdAG",
        "colab_type": "text"
      },
      "source": [
        "**Introduction to Object Oriented Programming in Python**\n",
        "\n",
        "One of the popular approach to solve the programming by creating an object.This Object Oriented Programming.\n",
        "\n",
        "An object has two characteristics:\n",
        "\n",
        "1. attributes(name,age,color)\n",
        "\n",
        "2. behaviour(learn,study,singing,dance)\n",
        "\n",
        "In pyhton,the concept  Object Oriented Programming follow this things:\n",
        "\n",
        "1. Inheritance\n",
        "\n",
        "2. Encapsulation\n",
        "\n",
        "3.  Polymorphism\n",
        "\n",
        "**Class**:-\n",
        "\n",
        "A class is a blueprint of an object and it is also called as Logical entity.\n",
        "\n",
        "**Object**:-\n",
        "\n",
        "Blueprint of class or instance of the class or physical entity.\n",
        "\n",
        "**Methods**:-\n",
        "\n",
        "Part of class can be called with object.\n",
        "\n",
        "**Constructor**:-\n",
        "\n",
        "Part of class can be called automatically .\n",
        "\n",
        "**Inheritance**:-\n",
        "\n",
        "\n",
        "\n"
      ]
    },
    {
      "cell_type": "code",
      "metadata": {
        "id": "_pt1wptzLbpW",
        "colab_type": "code",
        "colab": {
          "base_uri": "https://localhost:8080/",
          "height": 34
        },
        "outputId": "90b06c3d-5b86-45dc-bdab-f4924bdb0294"
      },
      "source": [
        "def test():\n",
        "  print(\"test()for function\")\n",
        "  return\n",
        "test()"
      ],
      "execution_count": 1,
      "outputs": [
        {
          "output_type": "stream",
          "text": [
            "test()for function\n"
          ],
          "name": "stdout"
        }
      ]
    },
    {
      "cell_type": "code",
      "metadata": {
        "id": "YmHo0exJRqU4",
        "colab_type": "code",
        "colab": {
          "base_uri": "https://localhost:8080/",
          "height": 34
        },
        "outputId": "9050ae0d-ad63-4232-a57c-ca0a2feb9bbe"
      },
      "source": [
        "class Demo:\n",
        "  def test(self):\n",
        "    print(\"test() for the class and method\")\n",
        "    return\n",
        "  \n",
        "obj = Demo()\n",
        "obj.test()"
      ],
      "execution_count": 3,
      "outputs": [
        {
          "output_type": "stream",
          "text": [
            "test() for the class and method\n"
          ],
          "name": "stdout"
        }
      ]
    },
    {
      "cell_type": "code",
      "metadata": {
        "id": "C-s89BYHSep2",
        "colab_type": "code",
        "colab": {
          "base_uri": "https://localhost:8080/",
          "height": 34
        },
        "outputId": "455a31e0-af18-4e5d-a9bf-45d9fd7e079a"
      },
      "source": [
        "class Demo1:\n",
        "  def fact(self,n):\n",
        "    #return the factorial \n",
        "    fact = 1\n",
        "    while(n!=0):\n",
        "      fact = fact * n\n",
        "      n = n - 1\n",
        "    return fact\n",
        "  \n",
        "p1 = Demo1()\n",
        "print(p1.fact(5))"
      ],
      "execution_count": 4,
      "outputs": [
        {
          "output_type": "stream",
          "text": [
            "120\n"
          ],
          "name": "stdout"
        }
      ]
    },
    {
      "cell_type": "code",
      "metadata": {
        "id": "wXqXxy66UUa_",
        "colab_type": "code",
        "colab": {
          "base_uri": "https://localhost:8080/",
          "height": 34
        },
        "outputId": "2442452e-a2a7-4b89-a5ef-1232360fe2a3"
      },
      "source": [
        "class Demo2:\n",
        "  def _init_(self,p1,p2):\n",
        "    self.p1 = p1\n",
        "    self.p2 = p2\n",
        "    \n",
        "  def add(self,p1,p2):\n",
        "    return p1 + p2\n",
        "  \n",
        "c1 = Demo2()\n",
        "print(c1.add(100,200))"
      ],
      "execution_count": 5,
      "outputs": [
        {
          "output_type": "stream",
          "text": [
            "300\n"
          ],
          "name": "stdout"
        }
      ]
    },
    {
      "cell_type": "code",
      "metadata": {
        "id": "7LVbXVZqbCV6",
        "colab_type": "code",
        "colab": {
          "base_uri": "https://localhost:8080/",
          "height": 34
        },
        "outputId": "06a08a16-9619-4d07-99a8-04b0eb0fbfb8"
      },
      "source": [
        "class Demo3:\n",
        "  def _init_(self,p1,p2):\n",
        "    self.p1 = p1\n",
        "    self.p2 = p2\n",
        "    \n",
        "  def sub(self,p1,p2):\n",
        "    return p1 - p2\n",
        "  \n",
        "c1 = Demo3()\n",
        "print(c1.sub(200,100))"
      ],
      "execution_count": 10,
      "outputs": [
        {
          "output_type": "stream",
          "text": [
            "100\n"
          ],
          "name": "stdout"
        }
      ]
    },
    {
      "cell_type": "code",
      "metadata": {
        "id": "cuXiKiC-c-sc",
        "colab_type": "code",
        "colab": {
          "base_uri": "https://localhost:8080/",
          "height": 34
        },
        "outputId": "659454d3-7ab6-4cec-c10a-4d6319e4340a"
      },
      "source": [
        "class Demo4:\n",
        "  def _init_(self,p1,p2):\n",
        "    self.p1 = p1\n",
        "    self.p2 = p2\n",
        "    \n",
        "  def mul(self,p1,p2):\n",
        "    return p1 * p2\n",
        "  \n",
        "c1 = Demo4()\n",
        "print(c1.mul(100,200))"
      ],
      "execution_count": 9,
      "outputs": [
        {
          "output_type": "stream",
          "text": [
            "20000\n"
          ],
          "name": "stdout"
        }
      ]
    },
    {
      "cell_type": "code",
      "metadata": {
        "id": "MTJWAJvgw8CZ",
        "colab_type": "code",
        "colab": {
          "base_uri": "https://localhost:8080/",
          "height": 51
        },
        "outputId": "03c193b7-a5fe-4697-f8bc-f7a328c41d8d"
      },
      "source": [
        "#some inheritance\n",
        "#parent class\n",
        "class Person(object):\n",
        "  #constructor\n",
        "  def __init__(self,name):\n",
        "    self.name = name\n",
        "  def getName(self):\n",
        "    return self.name\n",
        "  def isEmployee(self):\n",
        "    return False\n",
        "  \n",
        "#Derived class\n",
        "class Employee(Person):\n",
        "  def isEmployee(self):\n",
        "    return True\n",
        "\n",
        "emp = Person(\"Anil\")\n",
        "print(emp.getName(),emp.isEmployee())\n",
        "\n",
        "emp1 = Employee(\"Akhil\")\n",
        "print(emp1.getName(),emp1.isEmployee())"
      ],
      "execution_count": 19,
      "outputs": [
        {
          "output_type": "stream",
          "text": [
            "Anil False\n",
            "Akhil True\n"
          ],
          "name": "stdout"
        }
      ]
    },
    {
      "cell_type": "markdown",
      "metadata": {
        "id": "M7-KO_lZ0lGS",
        "colab_type": "text"
      },
      "source": [
        "**Python Numpy**\n",
        "\n",
        "Numpy arrays is a bit like python list\n",
        "\n",
        "\n"
      ]
    },
    {
      "cell_type": "code",
      "metadata": {
        "id": "rWsXXz7Izi9I",
        "colab_type": "code",
        "colab": {
          "base_uri": "https://localhost:8080/",
          "height": 34
        },
        "outputId": "b1f38ec0-a058-4db5-9769-d492ecfd155d"
      },
      "source": [
        "import numpy as np\n",
        "lst = [1,2,3,4]\n",
        "array = np.array(lst)\n",
        "print(array)"
      ],
      "execution_count": 20,
      "outputs": [
        {
          "output_type": "stream",
          "text": [
            "[1 2 3 4]\n"
          ],
          "name": "stdout"
        }
      ]
    },
    {
      "cell_type": "code",
      "metadata": {
        "id": "TM3se5Sh1zgo",
        "colab_type": "code",
        "colab": {
          "base_uri": "https://localhost:8080/",
          "height": 51
        },
        "outputId": "f37d45ef-1204-4c36-d7e4-6b04147a7d2b"
      },
      "source": [
        "lst = [1,2,3,4]\n",
        "array = np.array(lst)\n",
        "print(array.shape)\n",
        "print(array.dtype)"
      ],
      "execution_count": 21,
      "outputs": [
        {
          "output_type": "stream",
          "text": [
            "(4,)\n",
            "int64\n"
          ],
          "name": "stdout"
        }
      ]
    },
    {
      "cell_type": "code",
      "metadata": {
        "id": "W3CXbYk_2RXg",
        "colab_type": "code",
        "colab": {
          "base_uri": "https://localhost:8080/",
          "height": 51
        },
        "outputId": "96b4b818-8dae-47c7-dafd-b1f543875743"
      },
      "source": [
        "lst = [1,0,4,5,6.2,8,3]\n",
        "array = np.array(lst)\n",
        "print(array.shape)\n",
        "print(array.dtype)"
      ],
      "execution_count": 22,
      "outputs": [
        {
          "output_type": "stream",
          "text": [
            "(7,)\n",
            "float64\n"
          ],
          "name": "stdout"
        }
      ]
    },
    {
      "cell_type": "code",
      "metadata": {
        "id": "5aiqObAJ374f",
        "colab_type": "code",
        "colab": {
          "base_uri": "https://localhost:8080/",
          "height": 51
        },
        "outputId": "4b35cb52-ceaa-4b13-da3e-445e621bc191"
      },
      "source": [
        "a1 = np.array([(1,2,3),(4,5,6)])\n",
        "print(a1.shape)\n",
        "a2 = np.array([(1,2),(3,4),(5,6)])\n",
        "print(a2.shape)"
      ],
      "execution_count": 44,
      "outputs": [
        {
          "output_type": "stream",
          "text": [
            "(2, 3)\n",
            "(3, 2)\n"
          ],
          "name": "stdout"
        }
      ]
    },
    {
      "cell_type": "code",
      "metadata": {
        "id": "uAJ5yAu94cAQ",
        "colab_type": "code",
        "colab": {
          "base_uri": "https://localhost:8080/",
          "height": 102
        },
        "outputId": "9ed74461-fe14-496f-f2f2-762959149492"
      },
      "source": [
        "#Re-shape the given array\n",
        "#numpy.reshape(arrayName,reshape,order='c')\n",
        "a1 = np.array([(1,2,3),(4,5,6)])\n",
        "print(a1)\n",
        "a1.reshape(3,2)"
      ],
      "execution_count": 27,
      "outputs": [
        {
          "output_type": "stream",
          "text": [
            "[[1 2 3]\n",
            " [4 5 6]]\n"
          ],
          "name": "stdout"
        },
        {
          "output_type": "execute_result",
          "data": {
            "text/plain": [
              "array([[1, 2],\n",
              "       [3, 4],\n",
              "       [5, 6]])"
            ]
          },
          "metadata": {
            "tags": []
          },
          "execution_count": 27
        }
      ]
    },
    {
      "cell_type": "code",
      "metadata": {
        "id": "kQq94tx05ZzR",
        "colab_type": "code",
        "colab": {
          "base_uri": "https://localhost:8080/",
          "height": 34
        },
        "outputId": "be869958-4c95-4297-cf2c-35dba203c3a7"
      },
      "source": [
        "#append data in horizontally and in vertically\n",
        "a1 = np.array([(1,2,3)])\n",
        "a2 = np.array([(4,5,6)])\n",
        "print(np.hstack((a1,a2)))"
      ],
      "execution_count": 29,
      "outputs": [
        {
          "output_type": "stream",
          "text": [
            "[[1 2 3 4 5 6]]\n"
          ],
          "name": "stdout"
        }
      ]
    },
    {
      "cell_type": "code",
      "metadata": {
        "id": "TX8sEULo5Yv3",
        "colab_type": "code",
        "colab": {
          "base_uri": "https://localhost:8080/",
          "height": 51
        },
        "outputId": "b882d05c-672f-49d7-af3c-52e321fb52f8"
      },
      "source": [
        "a1 = np.array([(1,2,3)])\n",
        "a2 = np.array([(4,5,6)])\n",
        "print(np.vstack((a1,a2)))"
      ],
      "execution_count": 30,
      "outputs": [
        {
          "output_type": "stream",
          "text": [
            "[[1 2 3]\n",
            " [4 5 6]]\n"
          ],
          "name": "stdout"
        }
      ]
    },
    {
      "cell_type": "code",
      "metadata": {
        "id": "fPWBJE6t7TYw",
        "colab_type": "code",
        "colab": {
          "base_uri": "https://localhost:8080/",
          "height": 51
        },
        "outputId": "f2b37b38-25e3-4113-e79f-e18d5b8505f8"
      },
      "source": [
        "#generate random number from NP\n",
        "a1 = np.random.normal(5,0.5,10)\n",
        "print(a1)\n"
      ],
      "execution_count": 31,
      "outputs": [
        {
          "output_type": "stream",
          "text": [
            "[5.24955131 4.89319778 4.58505967 5.25743004 4.67382865 4.57868471\n",
            " 5.12421571 5.02566767 4.77146273 5.04367569]\n"
          ],
          "name": "stdout"
        }
      ]
    },
    {
      "cell_type": "code",
      "metadata": {
        "id": "1CjmfKEr73lQ",
        "colab_type": "code",
        "colab": {
          "base_uri": "https://localhost:8080/",
          "height": 51
        },
        "outputId": "d1c4a3a2-4827-4f58-c163-6fc5d6205a75"
      },
      "source": [
        "#numpy.zeros() and numpy.one()\n",
        "#generate an array with all zeroes - - numpy.zeros()\n",
        "#numpy.zeros(shape,dtype=float,order='c')\n",
        "np.zeros((2,2))"
      ],
      "execution_count": 32,
      "outputs": [
        {
          "output_type": "execute_result",
          "data": {
            "text/plain": [
              "array([[0., 0.],\n",
              "       [0., 0.]])"
            ]
          },
          "metadata": {
            "tags": []
          },
          "execution_count": 32
        }
      ]
    },
    {
      "cell_type": "code",
      "metadata": {
        "id": "TzS4dHx18rVc",
        "colab_type": "code",
        "colab": {
          "base_uri": "https://localhost:8080/",
          "height": 51
        },
        "outputId": "c46ff5a6-9abc-4c32-d37c-0a2d896f77bb"
      },
      "source": [
        "np.zeros((2,2),dtype=np.int64)"
      ],
      "execution_count": 34,
      "outputs": [
        {
          "output_type": "execute_result",
          "data": {
            "text/plain": [
              "array([[0, 0],\n",
              "       [0, 0]])"
            ]
          },
          "metadata": {
            "tags": []
          },
          "execution_count": 34
        }
      ]
    },
    {
      "cell_type": "code",
      "metadata": {
        "id": "qJo2POUi83iH",
        "colab_type": "code",
        "colab": {
          "base_uri": "https://localhost:8080/",
          "height": 85
        },
        "outputId": "c8d82d6c-c44e-421c-daa6-4ca3f8cce596"
      },
      "source": [
        "#np.ones(shape,dtype=float,order='c')\n",
        "np.ones((4,3),dtype=np.int64)"
      ],
      "execution_count": 35,
      "outputs": [
        {
          "output_type": "execute_result",
          "data": {
            "text/plain": [
              "array([[1, 1, 1],\n",
              "       [1, 1, 1],\n",
              "       [1, 1, 1],\n",
              "       [1, 1, 1]])"
            ]
          },
          "metadata": {
            "tags": []
          },
          "execution_count": 35
        }
      ]
    },
    {
      "cell_type": "code",
      "metadata": {
        "id": "bxITkr9V9Qr3",
        "colab_type": "code",
        "colab": {}
      },
      "source": [
        "A = np.matrix(np.ones((4,4),dtype=np.int64))\n",
        "print(A)"
      ],
      "execution_count": 0,
      "outputs": []
    },
    {
      "cell_type": "code",
      "metadata": {
        "id": "VW0Hzx9V9_NA",
        "colab_type": "code",
        "colab": {
          "base_uri": "https://localhost:8080/",
          "height": 85
        },
        "outputId": "80efb698-9ffc-4dea-ab55-34fdb8ffda6a"
      },
      "source": [
        "A = np.matrix(np.ones((4,4),dtype=np.int64))\n",
        "np.asarray(A)[2]=5\n",
        "print(A)"
      ],
      "execution_count": 38,
      "outputs": [
        {
          "output_type": "stream",
          "text": [
            "[[1 1 1 1]\n",
            " [1 1 1 1]\n",
            " [5 5 5 5]\n",
            " [1 1 1 1]]\n"
          ],
          "name": "stdout"
        }
      ]
    },
    {
      "cell_type": "code",
      "metadata": {
        "id": "OmkqxkPf-86H",
        "colab_type": "code",
        "colab": {
          "base_uri": "https://localhost:8080/",
          "height": 85
        },
        "outputId": "53291d47-6b57-4687-d6a9-cbcaff03522f"
      },
      "source": [
        "A = np.matrix(np.ones((4,4),dtype=np.int64))\n",
        "np.asarray(A)[1][3]=14\n",
        "np.asarray(A)[3][3]=16\n",
        "print(A)"
      ],
      "execution_count": 39,
      "outputs": [
        {
          "output_type": "stream",
          "text": [
            "[[ 1  1  1  1]\n",
            " [ 1  1  1 14]\n",
            " [ 1  1  1  1]\n",
            " [ 1  1  1 16]]\n"
          ],
          "name": "stdout"
        }
      ]
    },
    {
      "cell_type": "code",
      "metadata": {
        "id": "Xvbx_p9kQTPC",
        "colab_type": "code",
        "colab": {
          "base_uri": "https://localhost:8080/",
          "height": 34
        },
        "outputId": "2e24030f-1728-45c0-a974-79cc194dff62"
      },
      "source": [
        "#arange() - - particular\n",
        "#numpy.arange(start,end,step)\n",
        "#start - value\n",
        "#end - value\n",
        "#step - Gap between one value to another value\n",
        "\n",
        "import numpy as np\n",
        "np.arange(1,10)"
      ],
      "execution_count": 40,
      "outputs": [
        {
          "output_type": "execute_result",
          "data": {
            "text/plain": [
              "array([1, 2, 3, 4, 5, 6, 7, 8, 9])"
            ]
          },
          "metadata": {
            "tags": []
          },
          "execution_count": 40
        }
      ]
    },
    {
      "cell_type": "code",
      "metadata": {
        "id": "lFp0WaVjRWLb",
        "colab_type": "code",
        "colab": {
          "base_uri": "https://localhost:8080/",
          "height": 34
        },
        "outputId": "69ea0cdd-8b63-451f-af69-7d9789799eb7"
      },
      "source": [
        "np.arange(1,100,9)"
      ],
      "execution_count": 41,
      "outputs": [
        {
          "output_type": "execute_result",
          "data": {
            "text/plain": [
              "array([ 1, 10, 19, 28, 37, 46, 55, 64, 73, 82, 91])"
            ]
          },
          "metadata": {
            "tags": []
          },
          "execution_count": 41
        }
      ]
    },
    {
      "cell_type": "code",
      "metadata": {
        "id": "duES_ctsRb2g",
        "colab_type": "code",
        "colab": {
          "base_uri": "https://localhost:8080/",
          "height": 34
        },
        "outputId": "1ff0d626-7f52-4d78-c77f-de41cb716bb4"
      },
      "source": [
        "np.arange(2,20,2)\n",
        "np.arange(1,25,2)"
      ],
      "execution_count": 43,
      "outputs": [
        {
          "output_type": "execute_result",
          "data": {
            "text/plain": [
              "array([ 1,  3,  5,  7,  9, 11, 13, 15, 17, 19, 21, 23])"
            ]
          },
          "metadata": {
            "tags": []
          },
          "execution_count": 43
        }
      ]
    },
    {
      "cell_type": "code",
      "metadata": {
        "id": "jRDz8By8SFqB",
        "colab_type": "code",
        "colab": {
          "base_uri": "https://localhost:8080/",
          "height": 34
        },
        "outputId": "c29731e7-ae00-4798-83d3-24c40844b119"
      },
      "source": [
        "#indexing and slicing of numpy\n",
        "a1 = np.array([(1,2,3),(4,5,6)])\n",
        "print(\"first row:\",a1[0])"
      ],
      "execution_count": 45,
      "outputs": [
        {
          "output_type": "stream",
          "text": [
            "first row: [1 2 3]\n"
          ],
          "name": "stdout"
        }
      ]
    },
    {
      "cell_type": "code",
      "metadata": {
        "id": "wc5dmq2BSijB",
        "colab_type": "code",
        "colab": {
          "base_uri": "https://localhost:8080/",
          "height": 34
        },
        "outputId": "1f04ca5c-fd14-47c9-c181-8b1a53362b6d"
      },
      "source": [
        "a1 = np.array([(1,2,3),(4,5,6)])\n",
        "print(\"second row:\",a1[1])"
      ],
      "execution_count": 46,
      "outputs": [
        {
          "output_type": "stream",
          "text": [
            "second row: [4 5 6]\n"
          ],
          "name": "stdout"
        }
      ]
    },
    {
      "cell_type": "code",
      "metadata": {
        "id": "mhxLOrl2S2aq",
        "colab_type": "code",
        "colab": {
          "base_uri": "https://localhost:8080/",
          "height": 34
        },
        "outputId": "a162fa98-e606-4f40-99ab-6372638bf74f"
      },
      "source": [
        "a1 = np.array([(1,2,3),(4,5,6)])\n",
        "print(\"first row\",a1[0])"
      ],
      "execution_count": 50,
      "outputs": [
        {
          "output_type": "stream",
          "text": [
            "first row [1 2 3]\n"
          ],
          "name": "stdout"
        }
      ]
    },
    {
      "cell_type": "code",
      "metadata": {
        "id": "RqG18bwcTYYx",
        "colab_type": "code",
        "colab": {
          "base_uri": "https://localhost:8080/",
          "height": 34
        },
        "outputId": "a263d2a9-e4a1-4adc-dc33-047093c21866"
      },
      "source": [
        "a1 = np.array([(1,2,3),(4,5,6)])\n",
        "print(\"second row\",a1[1])"
      ],
      "execution_count": 51,
      "outputs": [
        {
          "output_type": "stream",
          "text": [
            "second row [4 5 6]\n"
          ],
          "name": "stdout"
        }
      ]
    },
    {
      "cell_type": "code",
      "metadata": {
        "id": "kjVJuGe2Twe5",
        "colab_type": "code",
        "colab": {
          "base_uri": "https://localhost:8080/",
          "height": 34
        },
        "outputId": "6017eb44-fc3c-4109-d2b8-bda5273d9586"
      },
      "source": [
        "a1 = np.array([(1,2,3),(4,5,6)])\n",
        "print(\"Slicing row\",a1[1])"
      ],
      "execution_count": 55,
      "outputs": [
        {
          "output_type": "stream",
          "text": [
            "Slicing row [4 5 6]\n"
          ],
          "name": "stdout"
        }
      ]
    },
    {
      "cell_type": "code",
      "metadata": {
        "id": "wxobhr8ZUdyp",
        "colab_type": "code",
        "colab": {
          "base_uri": "https://localhost:8080/",
          "height": 34
        },
        "outputId": "397c0195-4f2e-4d66-ec4b-23a5723ae05e"
      },
      "source": [
        "a1 = np.array([(1,2,3),(4,5,6)])\n",
        "print(\"slicing column\",a1[:,1])"
      ],
      "execution_count": 57,
      "outputs": [
        {
          "output_type": "stream",
          "text": [
            "slicing column [2 5]\n"
          ],
          "name": "stdout"
        }
      ]
    },
    {
      "cell_type": "code",
      "metadata": {
        "id": "tHCLmCsJUyMY",
        "colab_type": "code",
        "colab": {
          "base_uri": "https://localhost:8080/",
          "height": 34
        },
        "outputId": "45f46fcd-75e5-4be9-a6cd-781dd608dd9e"
      },
      "source": [
        "a1 = np.array([(1,2,3),(4,5,6)])\n",
        "print(\"slicing last column\",a1[:,2])"
      ],
      "execution_count": 58,
      "outputs": [
        {
          "output_type": "stream",
          "text": [
            "slicing last column [3 6]\n"
          ],
          "name": "stdout"
        }
      ]
    },
    {
      "cell_type": "code",
      "metadata": {
        "id": "GaYeMpYLVBDQ",
        "colab_type": "code",
        "colab": {
          "base_uri": "https://localhost:8080/",
          "height": 34
        },
        "outputId": "7093a25a-75ef-468a-b3d0-bed73a803109"
      },
      "source": [
        "a1 = np.array([(1,2,3),(4,5,6)])\n",
        "print(\"row and column\",a1[1,:1])"
      ],
      "execution_count": 59,
      "outputs": [
        {
          "output_type": "stream",
          "text": [
            "row and column [4]\n"
          ],
          "name": "stdout"
        }
      ]
    },
    {
      "cell_type": "code",
      "metadata": {
        "id": "fnxhrJN3VNUK",
        "colab_type": "code",
        "colab": {
          "base_uri": "https://localhost:8080/",
          "height": 119
        },
        "outputId": "349248b2-20af-409f-a324-4e5ae6463f41"
      },
      "source": [
        "#some math operation on given random numbers\n",
        "#min - - returns least number\n",
        "#max - - returns large number\n",
        "#median - returns median value\n",
        "#mean - - returns mean value\n",
        "#GD - - gaussian distribution\n",
        "a1 = np.random.normal(5,1,10)\n",
        "print(a1)\n",
        "print(\"Min value = \",np.min(a1))\n",
        "print(\"Max value = \",np.max(a1))\n",
        "print(\"Mean value = \",np.mean(a1))\n",
        "print(\"Median value = \",np.median(a1))"
      ],
      "execution_count": 60,
      "outputs": [
        {
          "output_type": "stream",
          "text": [
            "[5.92743089 4.23183439 6.60357195 5.49575943 3.70819796 7.44619925\n",
            " 4.20971207 4.82531721 4.97936064 3.91829997]\n",
            "Min value =  3.708197958036738\n",
            "Max value =  7.446199245092686\n",
            "Mean value =  5.13456837621526\n",
            "Median value =  4.902338924231305\n"
          ],
          "name": "stdout"
        }
      ]
    },
    {
      "cell_type": "code",
      "metadata": {
        "id": "uBmyYJL3W9cQ",
        "colab_type": "code",
        "colab": {
          "base_uri": "https://localhost:8080/",
          "height": 34
        },
        "outputId": "ed2e966a-963a-4488-8d45-bfb530fbf94c"
      },
      "source": [
        "#multiply of 1d arrays\n",
        "#numpy.dot(x,y)\n",
        "c1 = np.array([1,2])\n",
        "c2 = np.array([4,5])\n",
        "np.dot(c1,c2)"
      ],
      "execution_count": 61,
      "outputs": [
        {
          "output_type": "execute_result",
          "data": {
            "text/plain": [
              "14"
            ]
          },
          "metadata": {
            "tags": []
          },
          "execution_count": 61
        }
      ]
    },
    {
      "cell_type": "code",
      "metadata": {
        "id": "HqtuhnWyYk0c",
        "colab_type": "code",
        "colab": {
          "base_uri": "https://localhost:8080/",
          "height": 51
        },
        "outputId": "76ee45be-2958-428d-827f-b652806c2fd2"
      },
      "source": [
        "c1 = np.array([(1,2),(3,4)])\n",
        "c2 = np.array([(3,4),(1,2)])\n",
        "np.dot(c1,c2)"
      ],
      "execution_count": 62,
      "outputs": [
        {
          "output_type": "execute_result",
          "data": {
            "text/plain": [
              "array([[ 5,  8],\n",
              "       [13, 20]])"
            ]
          },
          "metadata": {
            "tags": []
          },
          "execution_count": 62
        }
      ]
    },
    {
      "cell_type": "code",
      "metadata": {
        "id": "YFnr9YIdY6sm",
        "colab_type": "code",
        "colab": {
          "base_uri": "https://localhost:8080/",
          "height": 51
        },
        "outputId": "60adfad4-55d9-4c85-c974-2d2ca480fbf4"
      },
      "source": [
        "b1 = np.array([(1,2),(3,6)])\n",
        "b2 = np.array([(3,6),(1,2)])\n",
        "np.dot(b1,b2)"
      ],
      "execution_count": 63,
      "outputs": [
        {
          "output_type": "execute_result",
          "data": {
            "text/plain": [
              "array([[ 5, 10],\n",
              "       [15, 30]])"
            ]
          },
          "metadata": {
            "tags": []
          },
          "execution_count": 63
        }
      ]
    },
    {
      "cell_type": "markdown",
      "metadata": {
        "id": "pY-TPhkndcEv",
        "colab_type": "text"
      },
      "source": [
        "**Pandas Basics**\n",
        "\n",
        "Python is one of the popular programming language for data analysis\n",
        "\n",
        "python is used for importing and analyzing pretty much faster and easier also \n",
        "\n",
        "Pandas dataFrames\n",
        "            Data analysis with python"
      ]
    },
    {
      "cell_type": "code",
      "metadata": {
        "id": "q2FqrMOZebJg",
        "colab_type": "code",
        "colab": {
          "base_uri": "https://localhost:8080/",
          "height": 214
        },
        "outputId": "cab47b0c-7120-4cac-921b-29c318f63986"
      },
      "source": [
        "class test:\n",
        "  def __init__(self,a):\n",
        "    self.a =a\n",
        "    \n",
        "  def display(self):\n",
        "    print(self.a)\n",
        "obj = test()\n",
        "obj.display()"
      ],
      "execution_count": 67,
      "outputs": [
        {
          "output_type": "error",
          "ename": "TypeError",
          "evalue": "ignored",
          "traceback": [
            "\u001b[0;31m---------------------------------------------------------------------------\u001b[0m",
            "\u001b[0;31mTypeError\u001b[0m                                 Traceback (most recent call last)",
            "\u001b[0;32m<ipython-input-67-46bd94b8d7e0>\u001b[0m in \u001b[0;36m<module>\u001b[0;34m()\u001b[0m\n\u001b[1;32m      5\u001b[0m   \u001b[0;32mdef\u001b[0m \u001b[0mdisplay\u001b[0m\u001b[0;34m(\u001b[0m\u001b[0mself\u001b[0m\u001b[0;34m)\u001b[0m\u001b[0;34m:\u001b[0m\u001b[0;34m\u001b[0m\u001b[0;34m\u001b[0m\u001b[0m\n\u001b[1;32m      6\u001b[0m     \u001b[0mprint\u001b[0m\u001b[0;34m(\u001b[0m\u001b[0mself\u001b[0m\u001b[0;34m.\u001b[0m\u001b[0ma\u001b[0m\u001b[0;34m)\u001b[0m\u001b[0;34m\u001b[0m\u001b[0;34m\u001b[0m\u001b[0m\n\u001b[0;32m----> 7\u001b[0;31m \u001b[0mobj\u001b[0m \u001b[0;34m=\u001b[0m \u001b[0mtest\u001b[0m\u001b[0;34m(\u001b[0m\u001b[0;34m)\u001b[0m\u001b[0;34m\u001b[0m\u001b[0;34m\u001b[0m\u001b[0m\n\u001b[0m\u001b[1;32m      8\u001b[0m \u001b[0mobj\u001b[0m\u001b[0;34m.\u001b[0m\u001b[0mdisplay\u001b[0m\u001b[0;34m(\u001b[0m\u001b[0;34m)\u001b[0m\u001b[0;34m\u001b[0m\u001b[0;34m\u001b[0m\u001b[0m\n",
            "\u001b[0;31mTypeError\u001b[0m: __init__() missing 1 required positional argument: 'a'"
          ]
        }
      ]
    },
    {
      "cell_type": "code",
      "metadata": {
        "id": "Sh0fcuv2gCOU",
        "colab_type": "code",
        "colab": {
          "base_uri": "https://localhost:8080/",
          "height": 136
        },
        "outputId": "7697eb1a-d804-4b80-9d8f-9135fcd7399c"
      },
      "source": [
        "import pandas as pd\n",
        "dict = {\"Name\":[\"Anil\",\"Akhil\",\"Dinesh\",\"Harsha\",\"Ajay\",\"Kranth\"],\n",
        "       \"EmailID\":[\"anil1@gmail.com\",\"akhil2@gmail.com\",\"dinesh3@gmail.com\",\"harsha4@gmail.com\",\"ajay5@gmail.com\",\"kranth6@gmail.com\"],\n",
        "        \"MobileNumber\":[999,888,777,888,999,777],\n",
        "        \"Address\":[\"Hyd\",\"Hyd\",\"Hyd\",\"Hyd\",\"Hyd\",\"Hyd\"]}\n",
        "b = pd.DataFrame(dict)\n",
        "b.index = [\"01\",\"02\",\"03\",\"04\",\"05\",\"06\"]\n",
        "print(b)"
      ],
      "execution_count": 70,
      "outputs": [
        {
          "output_type": "stream",
          "text": [
            "      Name            EmailID  MobileNumber Address\n",
            "01    Anil    anil1@gmail.com           999     Hyd\n",
            "02   Akhil   akhil2@gmail.com           888     Hyd\n",
            "03  Dinesh  dinesh3@gmail.com           777     Hyd\n",
            "04  Harsha  harsha4@gmail.com           888     Hyd\n",
            "05    Ajay    ajay5@gmail.com           999     Hyd\n",
            "06  Kranth  kranth6@gmail.com           777     Hyd\n"
          ],
          "name": "stdout"
        }
      ]
    },
    {
      "cell_type": "markdown",
      "metadata": {
        "id": "jzJoEVUOwf1F",
        "colab_type": "text"
      },
      "source": [
        "1. Lets input as string - - > Frequency of charform 0-9\n",
        "\n",
        "    input : 213abc456def111\n",
        "    \n",
        "    output : 0 4 1 1 1 1 1 0 0 0\n",
        "    \n",
        "2. Check if the two strings are Anagrams\n",
        "\n",
        "     abc  cba - ->  {a:1} {b:1} {c:1} - - true\n",
        "     \n",
        "     aabbcc ccbbaa - -false"
      ]
    },
    {
      "cell_type": "code",
      "metadata": {
        "id": "0xMg764WxQSH",
        "colab_type": "code",
        "colab": {
          "base_uri": "https://localhost:8080/",
          "height": 629
        },
        "outputId": "b54980e3-b523-41fe-f1dd-1b9717d81957"
      },
      "source": [
        "import calendar\n",
        "a=calendar.prcal(2019)"
      ],
      "execution_count": 71,
      "outputs": [
        {
          "output_type": "stream",
          "text": [
            "                                  2019\n",
            "\n",
            "      January                   February                   March\n",
            "Mo Tu We Th Fr Sa Su      Mo Tu We Th Fr Sa Su      Mo Tu We Th Fr Sa Su\n",
            "    1  2  3  4  5  6                   1  2  3                   1  2  3\n",
            " 7  8  9 10 11 12 13       4  5  6  7  8  9 10       4  5  6  7  8  9 10\n",
            "14 15 16 17 18 19 20      11 12 13 14 15 16 17      11 12 13 14 15 16 17\n",
            "21 22 23 24 25 26 27      18 19 20 21 22 23 24      18 19 20 21 22 23 24\n",
            "28 29 30 31               25 26 27 28               25 26 27 28 29 30 31\n",
            "\n",
            "       April                      May                       June\n",
            "Mo Tu We Th Fr Sa Su      Mo Tu We Th Fr Sa Su      Mo Tu We Th Fr Sa Su\n",
            " 1  2  3  4  5  6  7             1  2  3  4  5                      1  2\n",
            " 8  9 10 11 12 13 14       6  7  8  9 10 11 12       3  4  5  6  7  8  9\n",
            "15 16 17 18 19 20 21      13 14 15 16 17 18 19      10 11 12 13 14 15 16\n",
            "22 23 24 25 26 27 28      20 21 22 23 24 25 26      17 18 19 20 21 22 23\n",
            "29 30                     27 28 29 30 31            24 25 26 27 28 29 30\n",
            "\n",
            "        July                     August                  September\n",
            "Mo Tu We Th Fr Sa Su      Mo Tu We Th Fr Sa Su      Mo Tu We Th Fr Sa Su\n",
            " 1  2  3  4  5  6  7                1  2  3  4                         1\n",
            " 8  9 10 11 12 13 14       5  6  7  8  9 10 11       2  3  4  5  6  7  8\n",
            "15 16 17 18 19 20 21      12 13 14 15 16 17 18       9 10 11 12 13 14 15\n",
            "22 23 24 25 26 27 28      19 20 21 22 23 24 25      16 17 18 19 20 21 22\n",
            "29 30 31                  26 27 28 29 30 31         23 24 25 26 27 28 29\n",
            "                                                    30\n",
            "\n",
            "      October                   November                  December\n",
            "Mo Tu We Th Fr Sa Su      Mo Tu We Th Fr Sa Su      Mo Tu We Th Fr Sa Su\n",
            "    1  2  3  4  5  6                   1  2  3                         1\n",
            " 7  8  9 10 11 12 13       4  5  6  7  8  9 10       2  3  4  5  6  7  8\n",
            "14 15 16 17 18 19 20      11 12 13 14 15 16 17       9 10 11 12 13 14 15\n",
            "21 22 23 24 25 26 27      18 19 20 21 22 23 24      16 17 18 19 20 21 22\n",
            "28 29 30 31               25 26 27 28 29 30         23 24 25 26 27 28 29\n",
            "                                                    30 31\n",
            "\n"
          ],
          "name": "stdout"
        }
      ]
    },
    {
      "cell_type": "code",
      "metadata": {
        "id": "poaY7Pnkxz1-",
        "colab_type": "code",
        "colab": {
          "base_uri": "https://localhost:8080/",
          "height": 34
        },
        "outputId": "fe559930-572b-4fe8-ee24-670cd44de9ae"
      },
      "source": [
        "#check whether two strings are Anagram \n",
        "def check(s1,s2): \n",
        "  if(sorted(s1)==sorted(s2)):\n",
        "    return True\n",
        "  else:\n",
        "    return False\n",
        "\n",
        "s1 = \"abc\" \n",
        "s2 = \"cba\"\n",
        "check(s1,s2)"
      ],
      "execution_count": 74,
      "outputs": [
        {
          "output_type": "execute_result",
          "data": {
            "text/plain": [
              "True"
            ]
          },
          "metadata": {
            "tags": []
          },
          "execution_count": 74
        }
      ]
    },
    {
      "cell_type": "code",
      "metadata": {
        "id": "LBNy4mzK0_yN",
        "colab_type": "code",
        "colab": {
          "base_uri": "https://localhost:8080/",
          "height": 374
        },
        "outputId": "48869a83-a361-4055-c8b8-e9b97a912b66"
      },
      "source": [
        "#frequency of character from 0-9\n",
        "string = input(\"Enter a string\")\n",
        "\n",
        "Digits = ['0','1','2','3','4','5','6','7','8','9']\n",
        "for i in range(0,10):\n",
        "  print(\"Number is repeated times\",i)\n",
        "  print(string.count(Digits[i]))\n"
      ],
      "execution_count": 81,
      "outputs": [
        {
          "output_type": "stream",
          "text": [
            "Enter a string213abc456def111\n",
            "Number is repeated times 0\n",
            "0\n",
            "Number is repeated times 1\n",
            "4\n",
            "Number is repeated times 2\n",
            "1\n",
            "Number is repeated times 3\n",
            "1\n",
            "Number is repeated times 4\n",
            "1\n",
            "Number is repeated times 5\n",
            "1\n",
            "Number is repeated times 6\n",
            "1\n",
            "Number is repeated times 7\n",
            "0\n",
            "Number is repeated times 8\n",
            "0\n",
            "Number is repeated times 9\n",
            "0\n"
          ],
          "name": "stdout"
        }
      ]
    }
  ]
}